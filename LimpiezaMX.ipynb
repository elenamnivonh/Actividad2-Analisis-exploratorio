{
 "cells": [
  {
   "cell_type": "code",
   "execution_count": 22,
   "metadata": {},
   "outputs": [],
   "source": [
    "#Carga de librerias \n",
    "import pandas as pd\n",
    "import numpy as np\n",
    "import matplotlib.pyplot as plt\n",
    "import statistics as mode"
   ]
  },
  {
   "cell_type": "code",
   "execution_count": 23,
   "metadata": {},
   "outputs": [
    {
     "data": {
      "text/html": [
       "<div>\n",
       "<style scoped>\n",
       "    .dataframe tbody tr th:only-of-type {\n",
       "        vertical-align: middle;\n",
       "    }\n",
       "\n",
       "    .dataframe tbody tr th {\n",
       "        vertical-align: top;\n",
       "    }\n",
       "\n",
       "    .dataframe thead th {\n",
       "        text-align: right;\n",
       "    }\n",
       "</style>\n",
       "<table border=\"1\" class=\"dataframe\">\n",
       "  <thead>\n",
       "    <tr style=\"text-align: right;\">\n",
       "      <th></th>\n",
       "      <th>id</th>\n",
       "      <th>name</th>\n",
       "      <th>host_id</th>\n",
       "      <th>host_name</th>\n",
       "      <th>neighbourhood_group</th>\n",
       "      <th>neighbourhood</th>\n",
       "      <th>latitude</th>\n",
       "      <th>longitude</th>\n",
       "      <th>room_type</th>\n",
       "      <th>price</th>\n",
       "      <th>minimum_nights</th>\n",
       "      <th>number_of_reviews</th>\n",
       "      <th>last_review</th>\n",
       "      <th>reviews_per_month</th>\n",
       "      <th>calculated_host_listings_count</th>\n",
       "      <th>availability_365</th>\n",
       "      <th>number_of_reviews_ltm</th>\n",
       "      <th>license</th>\n",
       "    </tr>\n",
       "  </thead>\n",
       "  <tbody>\n",
       "    <tr>\n",
       "      <th>0</th>\n",
       "      <td>826691</td>\n",
       "      <td>Suite 7 - Suites Condesa Mexico</td>\n",
       "      <td>4326326</td>\n",
       "      <td>Rodrigo</td>\n",
       "      <td>NaN</td>\n",
       "      <td>CuauhtÃ©moc</td>\n",
       "      <td>19.409150</td>\n",
       "      <td>-99.173210</td>\n",
       "      <td>Entire home/apt</td>\n",
       "      <td>850</td>\n",
       "      <td>180</td>\n",
       "      <td>18</td>\n",
       "      <td>2019-05-11</td>\n",
       "      <td>0.17</td>\n",
       "      <td>6</td>\n",
       "      <td>325</td>\n",
       "      <td>0</td>\n",
       "      <td>NaN</td>\n",
       "    </tr>\n",
       "    <tr>\n",
       "      <th>1</th>\n",
       "      <td>35797</td>\n",
       "      <td>Villa Dante</td>\n",
       "      <td>153786</td>\n",
       "      <td>Dici</td>\n",
       "      <td>NaN</td>\n",
       "      <td>Cuajimalpa de Morelos</td>\n",
       "      <td>19.382830</td>\n",
       "      <td>-99.271780</td>\n",
       "      <td>Entire home/apt</td>\n",
       "      <td>4056</td>\n",
       "      <td>1</td>\n",
       "      <td>0</td>\n",
       "      <td>NaN</td>\n",
       "      <td>NaN</td>\n",
       "      <td>1</td>\n",
       "      <td>363</td>\n",
       "      <td>0</td>\n",
       "      <td>NaN</td>\n",
       "    </tr>\n",
       "    <tr>\n",
       "      <th>2</th>\n",
       "      <td>52390579</td>\n",
       "      <td>Casa en privada con  vigilancia, estacionamiento.</td>\n",
       "      <td>424060909</td>\n",
       "      <td>Maria Carmen Marta</td>\n",
       "      <td>NaN</td>\n",
       "      <td>Cuajimalpa de Morelos</td>\n",
       "      <td>19.395126</td>\n",
       "      <td>-99.277374</td>\n",
       "      <td>Private room</td>\n",
       "      <td>752</td>\n",
       "      <td>1</td>\n",
       "      <td>0</td>\n",
       "      <td>NaN</td>\n",
       "      <td>NaN</td>\n",
       "      <td>1</td>\n",
       "      <td>365</td>\n",
       "      <td>0</td>\n",
       "      <td>NaN</td>\n",
       "    </tr>\n",
       "    <tr>\n",
       "      <th>3</th>\n",
       "      <td>826760</td>\n",
       "      <td>Suite 12 - Suites Condesa Mexico</td>\n",
       "      <td>4326326</td>\n",
       "      <td>Rodrigo</td>\n",
       "      <td>NaN</td>\n",
       "      <td>CuauhtÃ©moc</td>\n",
       "      <td>19.409150</td>\n",
       "      <td>-99.173210</td>\n",
       "      <td>Entire home/apt</td>\n",
       "      <td>971</td>\n",
       "      <td>4</td>\n",
       "      <td>17</td>\n",
       "      <td>2020-03-15</td>\n",
       "      <td>0.15</td>\n",
       "      <td>6</td>\n",
       "      <td>203</td>\n",
       "      <td>0</td>\n",
       "      <td>NaN</td>\n",
       "    </tr>\n",
       "    <tr>\n",
       "      <th>4</th>\n",
       "      <td>44616</td>\n",
       "      <td>CONDESA HAUS  B&amp;B</td>\n",
       "      <td>196253</td>\n",
       "      <td>Condesa Haus Bed &amp; Breakfast  CDMX</td>\n",
       "      <td>NaN</td>\n",
       "      <td>CuauhtÃ©moc</td>\n",
       "      <td>19.411620</td>\n",
       "      <td>-99.177940</td>\n",
       "      <td>Entire home/apt</td>\n",
       "      <td>18000</td>\n",
       "      <td>1</td>\n",
       "      <td>56</td>\n",
       "      <td>2022-06-05</td>\n",
       "      <td>0.43</td>\n",
       "      <td>11</td>\n",
       "      <td>347</td>\n",
       "      <td>7</td>\n",
       "      <td>NaN</td>\n",
       "    </tr>\n",
       "    <tr>\n",
       "      <th>...</th>\n",
       "      <td>...</td>\n",
       "      <td>...</td>\n",
       "      <td>...</td>\n",
       "      <td>...</td>\n",
       "      <td>...</td>\n",
       "      <td>...</td>\n",
       "      <td>...</td>\n",
       "      <td>...</td>\n",
       "      <td>...</td>\n",
       "      <td>...</td>\n",
       "      <td>...</td>\n",
       "      <td>...</td>\n",
       "      <td>...</td>\n",
       "      <td>...</td>\n",
       "      <td>...</td>\n",
       "      <td>...</td>\n",
       "      <td>...</td>\n",
       "      <td>...</td>\n",
       "    </tr>\n",
       "    <tr>\n",
       "      <th>21664</th>\n",
       "      <td>618034488468131637</td>\n",
       "      <td>CÃ³modo Departamento en Satelite-Echegaray con...</td>\n",
       "      <td>442065952</td>\n",
       "      <td>Ricardo</td>\n",
       "      <td>NaN</td>\n",
       "      <td>Azcapotzalco</td>\n",
       "      <td>19.499980</td>\n",
       "      <td>-99.226010</td>\n",
       "      <td>Entire home/apt</td>\n",
       "      <td>673</td>\n",
       "      <td>1</td>\n",
       "      <td>3</td>\n",
       "      <td>2022-05-29</td>\n",
       "      <td>2.73</td>\n",
       "      <td>79</td>\n",
       "      <td>355</td>\n",
       "      <td>3</td>\n",
       "      <td>NaN</td>\n",
       "    </tr>\n",
       "    <tr>\n",
       "      <th>21665</th>\n",
       "      <td>22107097</td>\n",
       "      <td>GREAT &amp; cozy flat in Satelite</td>\n",
       "      <td>387195495</td>\n",
       "      <td>Daniela</td>\n",
       "      <td>NaN</td>\n",
       "      <td>Azcapotzalco</td>\n",
       "      <td>19.507870</td>\n",
       "      <td>-99.220670</td>\n",
       "      <td>Entire home/apt</td>\n",
       "      <td>897</td>\n",
       "      <td>2</td>\n",
       "      <td>107</td>\n",
       "      <td>2022-02-07</td>\n",
       "      <td>1.97</td>\n",
       "      <td>11</td>\n",
       "      <td>314</td>\n",
       "      <td>17</td>\n",
       "      <td>NaN</td>\n",
       "    </tr>\n",
       "    <tr>\n",
       "      <th>21666</th>\n",
       "      <td>40617809</td>\n",
       "      <td>Blanca</td>\n",
       "      <td>96471106</td>\n",
       "      <td>Mary Carmen</td>\n",
       "      <td>NaN</td>\n",
       "      <td>Azcapotzalco</td>\n",
       "      <td>19.507530</td>\n",
       "      <td>-99.225060</td>\n",
       "      <td>Entire home/apt</td>\n",
       "      <td>230</td>\n",
       "      <td>1</td>\n",
       "      <td>5</td>\n",
       "      <td>2019-12-31</td>\n",
       "      <td>0.16</td>\n",
       "      <td>4</td>\n",
       "      <td>140</td>\n",
       "      <td>0</td>\n",
       "      <td>NaN</td>\n",
       "    </tr>\n",
       "    <tr>\n",
       "      <th>21667</th>\n",
       "      <td>569519288654139909</td>\n",
       "      <td>Casa LimÃ³n. Confort y seguridad</td>\n",
       "      <td>30446640</td>\n",
       "      <td>Ericka</td>\n",
       "      <td>NaN</td>\n",
       "      <td>Azcapotzalco</td>\n",
       "      <td>19.493360</td>\n",
       "      <td>-99.229090</td>\n",
       "      <td>Entire home/apt</td>\n",
       "      <td>690</td>\n",
       "      <td>3</td>\n",
       "      <td>0</td>\n",
       "      <td>NaN</td>\n",
       "      <td>NaN</td>\n",
       "      <td>1</td>\n",
       "      <td>354</td>\n",
       "      <td>0</td>\n",
       "      <td>NaN</td>\n",
       "    </tr>\n",
       "    <tr>\n",
       "      <th>21668</th>\n",
       "      <td>37175605</td>\n",
       "      <td>Linda casa con enorme jardÃ­n en zona residenc...</td>\n",
       "      <td>51907431</td>\n",
       "      <td>Cecilia</td>\n",
       "      <td>NaN</td>\n",
       "      <td>Azcapotzalco</td>\n",
       "      <td>19.490040</td>\n",
       "      <td>-99.230310</td>\n",
       "      <td>Entire home/apt</td>\n",
       "      <td>3228</td>\n",
       "      <td>2</td>\n",
       "      <td>58</td>\n",
       "      <td>2022-06-13</td>\n",
       "      <td>1.66</td>\n",
       "      <td>1</td>\n",
       "      <td>10</td>\n",
       "      <td>20</td>\n",
       "      <td>NaN</td>\n",
       "    </tr>\n",
       "  </tbody>\n",
       "</table>\n",
       "<p>21669 rows × 18 columns</p>\n",
       "</div>"
      ],
      "text/plain": [
       "                       id                                               name  \\\n",
       "0                  826691                    Suite 7 - Suites Condesa Mexico   \n",
       "1                   35797                                        Villa Dante   \n",
       "2                52390579  Casa en privada con  vigilancia, estacionamiento.   \n",
       "3                  826760                   Suite 12 - Suites Condesa Mexico   \n",
       "4                   44616                                  CONDESA HAUS  B&B   \n",
       "...                   ...                                                ...   \n",
       "21664  618034488468131637  CÃ³modo Departamento en Satelite-Echegaray con...   \n",
       "21665            22107097                      GREAT & cozy flat in Satelite   \n",
       "21666            40617809                                             Blanca   \n",
       "21667  569519288654139909                   Casa LimÃ³n. Confort y seguridad   \n",
       "21668            37175605  Linda casa con enorme jardÃ­n en zona residenc...   \n",
       "\n",
       "         host_id                           host_name  neighbourhood_group  \\\n",
       "0        4326326                             Rodrigo                  NaN   \n",
       "1         153786                                Dici                  NaN   \n",
       "2      424060909                  Maria Carmen Marta                  NaN   \n",
       "3        4326326                             Rodrigo                  NaN   \n",
       "4         196253  Condesa Haus Bed & Breakfast  CDMX                  NaN   \n",
       "...          ...                                 ...                  ...   \n",
       "21664  442065952                             Ricardo                  NaN   \n",
       "21665  387195495                             Daniela                  NaN   \n",
       "21666   96471106                         Mary Carmen                  NaN   \n",
       "21667   30446640                              Ericka                  NaN   \n",
       "21668   51907431                             Cecilia                  NaN   \n",
       "\n",
       "               neighbourhood   latitude  longitude        room_type  price  \\\n",
       "0                CuauhtÃ©moc  19.409150 -99.173210  Entire home/apt    850   \n",
       "1      Cuajimalpa de Morelos  19.382830 -99.271780  Entire home/apt   4056   \n",
       "2      Cuajimalpa de Morelos  19.395126 -99.277374     Private room    752   \n",
       "3                CuauhtÃ©moc  19.409150 -99.173210  Entire home/apt    971   \n",
       "4                CuauhtÃ©moc  19.411620 -99.177940  Entire home/apt  18000   \n",
       "...                      ...        ...        ...              ...    ...   \n",
       "21664           Azcapotzalco  19.499980 -99.226010  Entire home/apt    673   \n",
       "21665           Azcapotzalco  19.507870 -99.220670  Entire home/apt    897   \n",
       "21666           Azcapotzalco  19.507530 -99.225060  Entire home/apt    230   \n",
       "21667           Azcapotzalco  19.493360 -99.229090  Entire home/apt    690   \n",
       "21668           Azcapotzalco  19.490040 -99.230310  Entire home/apt   3228   \n",
       "\n",
       "       minimum_nights  number_of_reviews last_review  reviews_per_month  \\\n",
       "0                 180                 18  2019-05-11               0.17   \n",
       "1                   1                  0         NaN                NaN   \n",
       "2                   1                  0         NaN                NaN   \n",
       "3                   4                 17  2020-03-15               0.15   \n",
       "4                   1                 56  2022-06-05               0.43   \n",
       "...               ...                ...         ...                ...   \n",
       "21664               1                  3  2022-05-29               2.73   \n",
       "21665               2                107  2022-02-07               1.97   \n",
       "21666               1                  5  2019-12-31               0.16   \n",
       "21667               3                  0         NaN                NaN   \n",
       "21668               2                 58  2022-06-13               1.66   \n",
       "\n",
       "       calculated_host_listings_count  availability_365  \\\n",
       "0                                   6               325   \n",
       "1                                   1               363   \n",
       "2                                   1               365   \n",
       "3                                   6               203   \n",
       "4                                  11               347   \n",
       "...                               ...               ...   \n",
       "21664                              79               355   \n",
       "21665                              11               314   \n",
       "21666                               4               140   \n",
       "21667                               1               354   \n",
       "21668                               1                10   \n",
       "\n",
       "       number_of_reviews_ltm  license  \n",
       "0                          0      NaN  \n",
       "1                          0      NaN  \n",
       "2                          0      NaN  \n",
       "3                          0      NaN  \n",
       "4                          7      NaN  \n",
       "...                      ...      ...  \n",
       "21664                      3      NaN  \n",
       "21665                     17      NaN  \n",
       "21666                      0      NaN  \n",
       "21667                      0      NaN  \n",
       "21668                     20      NaN  \n",
       "\n",
       "[21669 rows x 18 columns]"
      ]
     },
     "execution_count": 23,
     "metadata": {},
     "output_type": "execute_result"
    }
   ],
   "source": [
    "#Carga de archivo CSV\n",
    "data= pd.read_csv(\"Mexico.csv\", encoding= 'ISO-8859-1')\n",
    "data"
   ]
  },
  {
   "cell_type": "markdown",
   "metadata": {},
   "source": [
    "##########TRATADO DE NULOS##########"
   ]
  },
  {
   "cell_type": "code",
   "execution_count": 24,
   "metadata": {},
   "outputs": [
    {
     "data": {
      "text/plain": [
       "id                                    0\n",
       "name                                  3\n",
       "host_id                               0\n",
       "host_name                             0\n",
       "neighbourhood_group               21669\n",
       "neighbourhood                         0\n",
       "latitude                              0\n",
       "longitude                             0\n",
       "room_type                             0\n",
       "price                                 0\n",
       "minimum_nights                        0\n",
       "number_of_reviews                     0\n",
       "last_review                        3990\n",
       "reviews_per_month                  3990\n",
       "calculated_host_listings_count        0\n",
       "availability_365                      0\n",
       "number_of_reviews_ltm                 0\n",
       "license                           21669\n",
       "dtype: int64"
      ]
     },
     "execution_count": 24,
     "metadata": {},
     "output_type": "execute_result"
    }
   ],
   "source": [
    "#Identificación de valores nulos\n",
    "null=data.isnull(). sum()\n",
    "null"
   ]
  },
  {
   "cell_type": "code",
   "execution_count": 25,
   "metadata": {},
   "outputs": [
    {
     "data": {
      "text/html": [
       "<div>\n",
       "<style scoped>\n",
       "    .dataframe tbody tr th:only-of-type {\n",
       "        vertical-align: middle;\n",
       "    }\n",
       "\n",
       "    .dataframe tbody tr th {\n",
       "        vertical-align: top;\n",
       "    }\n",
       "\n",
       "    .dataframe thead th {\n",
       "        text-align: right;\n",
       "    }\n",
       "</style>\n",
       "<table border=\"1\" class=\"dataframe\">\n",
       "  <thead>\n",
       "    <tr style=\"text-align: right;\">\n",
       "      <th></th>\n",
       "      <th>id</th>\n",
       "      <th>name</th>\n",
       "      <th>host_id</th>\n",
       "      <th>host_name</th>\n",
       "      <th>neighbourhood</th>\n",
       "      <th>latitude</th>\n",
       "      <th>longitude</th>\n",
       "      <th>room_type</th>\n",
       "      <th>price</th>\n",
       "      <th>minimum_nights</th>\n",
       "      <th>number_of_reviews</th>\n",
       "      <th>reviews_per_month</th>\n",
       "      <th>calculated_host_listings_count</th>\n",
       "      <th>availability_365</th>\n",
       "      <th>number_of_reviews_ltm</th>\n",
       "    </tr>\n",
       "  </thead>\n",
       "  <tbody>\n",
       "    <tr>\n",
       "      <th>0</th>\n",
       "      <td>826691</td>\n",
       "      <td>Suite 7 - Suites Condesa Mexico</td>\n",
       "      <td>4326326</td>\n",
       "      <td>Rodrigo</td>\n",
       "      <td>CuauhtÃ©moc</td>\n",
       "      <td>19.409150</td>\n",
       "      <td>-99.173210</td>\n",
       "      <td>Entire home/apt</td>\n",
       "      <td>850</td>\n",
       "      <td>180</td>\n",
       "      <td>18</td>\n",
       "      <td>0.17</td>\n",
       "      <td>6</td>\n",
       "      <td>325</td>\n",
       "      <td>0</td>\n",
       "    </tr>\n",
       "    <tr>\n",
       "      <th>1</th>\n",
       "      <td>35797</td>\n",
       "      <td>Villa Dante</td>\n",
       "      <td>153786</td>\n",
       "      <td>Dici</td>\n",
       "      <td>Cuajimalpa de Morelos</td>\n",
       "      <td>19.382830</td>\n",
       "      <td>-99.271780</td>\n",
       "      <td>Entire home/apt</td>\n",
       "      <td>4056</td>\n",
       "      <td>1</td>\n",
       "      <td>0</td>\n",
       "      <td>NaN</td>\n",
       "      <td>1</td>\n",
       "      <td>363</td>\n",
       "      <td>0</td>\n",
       "    </tr>\n",
       "    <tr>\n",
       "      <th>2</th>\n",
       "      <td>52390579</td>\n",
       "      <td>Casa en privada con  vigilancia, estacionamiento.</td>\n",
       "      <td>424060909</td>\n",
       "      <td>Maria Carmen Marta</td>\n",
       "      <td>Cuajimalpa de Morelos</td>\n",
       "      <td>19.395126</td>\n",
       "      <td>-99.277374</td>\n",
       "      <td>Private room</td>\n",
       "      <td>752</td>\n",
       "      <td>1</td>\n",
       "      <td>0</td>\n",
       "      <td>NaN</td>\n",
       "      <td>1</td>\n",
       "      <td>365</td>\n",
       "      <td>0</td>\n",
       "    </tr>\n",
       "    <tr>\n",
       "      <th>3</th>\n",
       "      <td>826760</td>\n",
       "      <td>Suite 12 - Suites Condesa Mexico</td>\n",
       "      <td>4326326</td>\n",
       "      <td>Rodrigo</td>\n",
       "      <td>CuauhtÃ©moc</td>\n",
       "      <td>19.409150</td>\n",
       "      <td>-99.173210</td>\n",
       "      <td>Entire home/apt</td>\n",
       "      <td>971</td>\n",
       "      <td>4</td>\n",
       "      <td>17</td>\n",
       "      <td>0.15</td>\n",
       "      <td>6</td>\n",
       "      <td>203</td>\n",
       "      <td>0</td>\n",
       "    </tr>\n",
       "    <tr>\n",
       "      <th>4</th>\n",
       "      <td>44616</td>\n",
       "      <td>CONDESA HAUS  B&amp;B</td>\n",
       "      <td>196253</td>\n",
       "      <td>Condesa Haus Bed &amp; Breakfast  CDMX</td>\n",
       "      <td>CuauhtÃ©moc</td>\n",
       "      <td>19.411620</td>\n",
       "      <td>-99.177940</td>\n",
       "      <td>Entire home/apt</td>\n",
       "      <td>18000</td>\n",
       "      <td>1</td>\n",
       "      <td>56</td>\n",
       "      <td>0.43</td>\n",
       "      <td>11</td>\n",
       "      <td>347</td>\n",
       "      <td>7</td>\n",
       "    </tr>\n",
       "    <tr>\n",
       "      <th>...</th>\n",
       "      <td>...</td>\n",
       "      <td>...</td>\n",
       "      <td>...</td>\n",
       "      <td>...</td>\n",
       "      <td>...</td>\n",
       "      <td>...</td>\n",
       "      <td>...</td>\n",
       "      <td>...</td>\n",
       "      <td>...</td>\n",
       "      <td>...</td>\n",
       "      <td>...</td>\n",
       "      <td>...</td>\n",
       "      <td>...</td>\n",
       "      <td>...</td>\n",
       "      <td>...</td>\n",
       "    </tr>\n",
       "    <tr>\n",
       "      <th>21664</th>\n",
       "      <td>618034488468131637</td>\n",
       "      <td>CÃ³modo Departamento en Satelite-Echegaray con...</td>\n",
       "      <td>442065952</td>\n",
       "      <td>Ricardo</td>\n",
       "      <td>Azcapotzalco</td>\n",
       "      <td>19.499980</td>\n",
       "      <td>-99.226010</td>\n",
       "      <td>Entire home/apt</td>\n",
       "      <td>673</td>\n",
       "      <td>1</td>\n",
       "      <td>3</td>\n",
       "      <td>2.73</td>\n",
       "      <td>79</td>\n",
       "      <td>355</td>\n",
       "      <td>3</td>\n",
       "    </tr>\n",
       "    <tr>\n",
       "      <th>21665</th>\n",
       "      <td>22107097</td>\n",
       "      <td>GREAT &amp; cozy flat in Satelite</td>\n",
       "      <td>387195495</td>\n",
       "      <td>Daniela</td>\n",
       "      <td>Azcapotzalco</td>\n",
       "      <td>19.507870</td>\n",
       "      <td>-99.220670</td>\n",
       "      <td>Entire home/apt</td>\n",
       "      <td>897</td>\n",
       "      <td>2</td>\n",
       "      <td>107</td>\n",
       "      <td>1.97</td>\n",
       "      <td>11</td>\n",
       "      <td>314</td>\n",
       "      <td>17</td>\n",
       "    </tr>\n",
       "    <tr>\n",
       "      <th>21666</th>\n",
       "      <td>40617809</td>\n",
       "      <td>Blanca</td>\n",
       "      <td>96471106</td>\n",
       "      <td>Mary Carmen</td>\n",
       "      <td>Azcapotzalco</td>\n",
       "      <td>19.507530</td>\n",
       "      <td>-99.225060</td>\n",
       "      <td>Entire home/apt</td>\n",
       "      <td>230</td>\n",
       "      <td>1</td>\n",
       "      <td>5</td>\n",
       "      <td>0.16</td>\n",
       "      <td>4</td>\n",
       "      <td>140</td>\n",
       "      <td>0</td>\n",
       "    </tr>\n",
       "    <tr>\n",
       "      <th>21667</th>\n",
       "      <td>569519288654139909</td>\n",
       "      <td>Casa LimÃ³n. Confort y seguridad</td>\n",
       "      <td>30446640</td>\n",
       "      <td>Ericka</td>\n",
       "      <td>Azcapotzalco</td>\n",
       "      <td>19.493360</td>\n",
       "      <td>-99.229090</td>\n",
       "      <td>Entire home/apt</td>\n",
       "      <td>690</td>\n",
       "      <td>3</td>\n",
       "      <td>0</td>\n",
       "      <td>NaN</td>\n",
       "      <td>1</td>\n",
       "      <td>354</td>\n",
       "      <td>0</td>\n",
       "    </tr>\n",
       "    <tr>\n",
       "      <th>21668</th>\n",
       "      <td>37175605</td>\n",
       "      <td>Linda casa con enorme jardÃ­n en zona residenc...</td>\n",
       "      <td>51907431</td>\n",
       "      <td>Cecilia</td>\n",
       "      <td>Azcapotzalco</td>\n",
       "      <td>19.490040</td>\n",
       "      <td>-99.230310</td>\n",
       "      <td>Entire home/apt</td>\n",
       "      <td>3228</td>\n",
       "      <td>2</td>\n",
       "      <td>58</td>\n",
       "      <td>1.66</td>\n",
       "      <td>1</td>\n",
       "      <td>10</td>\n",
       "      <td>20</td>\n",
       "    </tr>\n",
       "  </tbody>\n",
       "</table>\n",
       "<p>21669 rows × 15 columns</p>\n",
       "</div>"
      ],
      "text/plain": [
       "                       id                                               name  \\\n",
       "0                  826691                    Suite 7 - Suites Condesa Mexico   \n",
       "1                   35797                                        Villa Dante   \n",
       "2                52390579  Casa en privada con  vigilancia, estacionamiento.   \n",
       "3                  826760                   Suite 12 - Suites Condesa Mexico   \n",
       "4                   44616                                  CONDESA HAUS  B&B   \n",
       "...                   ...                                                ...   \n",
       "21664  618034488468131637  CÃ³modo Departamento en Satelite-Echegaray con...   \n",
       "21665            22107097                      GREAT & cozy flat in Satelite   \n",
       "21666            40617809                                             Blanca   \n",
       "21667  569519288654139909                   Casa LimÃ³n. Confort y seguridad   \n",
       "21668            37175605  Linda casa con enorme jardÃ­n en zona residenc...   \n",
       "\n",
       "         host_id                           host_name          neighbourhood  \\\n",
       "0        4326326                             Rodrigo            CuauhtÃ©moc   \n",
       "1         153786                                Dici  Cuajimalpa de Morelos   \n",
       "2      424060909                  Maria Carmen Marta  Cuajimalpa de Morelos   \n",
       "3        4326326                             Rodrigo            CuauhtÃ©moc   \n",
       "4         196253  Condesa Haus Bed & Breakfast  CDMX            CuauhtÃ©moc   \n",
       "...          ...                                 ...                    ...   \n",
       "21664  442065952                             Ricardo           Azcapotzalco   \n",
       "21665  387195495                             Daniela           Azcapotzalco   \n",
       "21666   96471106                         Mary Carmen           Azcapotzalco   \n",
       "21667   30446640                              Ericka           Azcapotzalco   \n",
       "21668   51907431                             Cecilia           Azcapotzalco   \n",
       "\n",
       "        latitude  longitude        room_type  price  minimum_nights  \\\n",
       "0      19.409150 -99.173210  Entire home/apt    850             180   \n",
       "1      19.382830 -99.271780  Entire home/apt   4056               1   \n",
       "2      19.395126 -99.277374     Private room    752               1   \n",
       "3      19.409150 -99.173210  Entire home/apt    971               4   \n",
       "4      19.411620 -99.177940  Entire home/apt  18000               1   \n",
       "...          ...        ...              ...    ...             ...   \n",
       "21664  19.499980 -99.226010  Entire home/apt    673               1   \n",
       "21665  19.507870 -99.220670  Entire home/apt    897               2   \n",
       "21666  19.507530 -99.225060  Entire home/apt    230               1   \n",
       "21667  19.493360 -99.229090  Entire home/apt    690               3   \n",
       "21668  19.490040 -99.230310  Entire home/apt   3228               2   \n",
       "\n",
       "       number_of_reviews  reviews_per_month  calculated_host_listings_count  \\\n",
       "0                     18               0.17                               6   \n",
       "1                      0                NaN                               1   \n",
       "2                      0                NaN                               1   \n",
       "3                     17               0.15                               6   \n",
       "4                     56               0.43                              11   \n",
       "...                  ...                ...                             ...   \n",
       "21664                  3               2.73                              79   \n",
       "21665                107               1.97                              11   \n",
       "21666                  5               0.16                               4   \n",
       "21667                  0                NaN                               1   \n",
       "21668                 58               1.66                               1   \n",
       "\n",
       "       availability_365  number_of_reviews_ltm  \n",
       "0                   325                      0  \n",
       "1                   363                      0  \n",
       "2                   365                      0  \n",
       "3                   203                      0  \n",
       "4                   347                      7  \n",
       "...                 ...                    ...  \n",
       "21664               355                      3  \n",
       "21665               314                     17  \n",
       "21666               140                      0  \n",
       "21667               354                      0  \n",
       "21668                10                     20  \n",
       "\n",
       "[21669 rows x 15 columns]"
      ]
     },
     "execution_count": 25,
     "metadata": {},
     "output_type": "execute_result"
    }
   ],
   "source": [
    "#Eliminación de columnas neighbourhood_group\n",
    "data0=data.drop(['neighbourhood_group'], axis=1)\n",
    "data1=data0.drop(['last_review'], axis=1)\n",
    "data2=data1.drop(['license'], axis=1)\n",
    "data2"
   ]
  },
  {
   "cell_type": "code",
   "execution_count": 26,
   "metadata": {},
   "outputs": [],
   "source": [
    "#Sustitución de \"name\"\n",
    "data2[\"name\"]=data2[\"name\"].fillna('Usuario Desconocido')\n",
    "\n",
    "#\"reviews_per_month\": Rellenar con el valor de “Media” de la columna\n",
    "data2[\"reviews_per_month\"]=data2[\"reviews_per_month\"].fillna(round(data2[\"reviews_per_month\"].mean(),1))\n"
   ]
  },
  {
   "cell_type": "code",
   "execution_count": 27,
   "metadata": {},
   "outputs": [
    {
     "data": {
      "text/plain": [
       "id                                0\n",
       "name                              0\n",
       "host_id                           0\n",
       "host_name                         0\n",
       "neighbourhood                     0\n",
       "latitude                          0\n",
       "longitude                         0\n",
       "room_type                         0\n",
       "price                             0\n",
       "minimum_nights                    0\n",
       "number_of_reviews                 0\n",
       "reviews_per_month                 0\n",
       "calculated_host_listings_count    0\n",
       "availability_365                  0\n",
       "number_of_reviews_ltm             0\n",
       "dtype: int64"
      ]
     },
     "execution_count": 27,
     "metadata": {},
     "output_type": "execute_result"
    }
   ],
   "source": [
    "#Identificación de valores nulos\n",
    "null=data2.isnull(). sum()\n",
    "null"
   ]
  },
  {
   "cell_type": "markdown",
   "metadata": {},
   "source": [
    "#####TRATADO DE OUTLIERS#####"
   ]
  },
  {
   "cell_type": "code",
   "execution_count": 28,
   "metadata": {},
   "outputs": [],
   "source": [
    "#Creación de una copia para la base de datos\n",
    "copia = data2.copy()"
   ]
  },
  {
   "cell_type": "code",
   "execution_count": 29,
   "metadata": {},
   "outputs": [
    {
     "name": "stderr",
     "output_type": "stream",
     "text": [
      "/var/folders/km/_mk7wy_d31z7cvt46ch2p8mh0000gn/T/ipykernel_53329/100358101.py:2: FutureWarning: Dropping of nuisance columns in DataFrame reductions (with 'numeric_only=None') is deprecated; in a future version this will raise TypeError.  Select only valid columns before calling the reduction.\n",
      "  limitesuperiorO2=O2.mean()+2*O2.std()\n"
     ]
    },
    {
     "name": "stdout",
     "output_type": "stream",
     "text": [
      "Limite superior permitido id                                5.280258e+17\n",
      "host_id                           4.341560e+08\n",
      "latitude                          1.949291e+01\n",
      "longitude                        -9.909305e+01\n",
      "price                             1.775411e+04\n",
      "minimum_nights                    5.846827e+01\n",
      "number_of_reviews                 1.437533e+02\n",
      "reviews_per_month                 5.228547e+00\n",
      "calculated_host_listings_count    5.489913e+01\n",
      "availability_365                  4.889768e+02\n",
      "number_of_reviews_ltm             5.279554e+01\n",
      "dtype: float64\n",
      "Limite inferior permitido id                               -3.426377e+17\n",
      "host_id                          -1.058445e+08\n",
      "latitude                          1.931050e+01\n",
      "longitude                        -9.924565e+01\n",
      "price                            -1.485320e+04\n",
      "minimum_nights                   -4.878568e+01\n",
      "number_of_reviews                -8.056024e+01\n",
      "reviews_per_month                -2.051338e+00\n",
      "calculated_host_listings_count   -3.500371e+01\n",
      "availability_365                 -2.170456e+00\n",
      "number_of_reviews_ltm            -2.991133e+01\n",
      "dtype: float64\n"
     ]
    },
    {
     "name": "stderr",
     "output_type": "stream",
     "text": [
      "/var/folders/km/_mk7wy_d31z7cvt46ch2p8mh0000gn/T/ipykernel_53329/100358101.py:3: FutureWarning: Dropping of nuisance columns in DataFrame reductions (with 'numeric_only=None') is deprecated; in a future version this will raise TypeError.  Select only valid columns before calling the reduction.\n",
      "  limiteinferiorO2=O2.mean()-2*O2.std()\n"
     ]
    }
   ],
   "source": [
    "O2=copia\n",
    "limitesuperiorO2=O2.mean()+2*O2.std()\n",
    "limiteinferiorO2=O2.mean()-2*O2.std()\n",
    "print(\"Limite superior permitido\", limitesuperiorO2)\n",
    "print(\"Limite inferior permitido\",limiteinferiorO2)"
   ]
  },
  {
   "cell_type": "code",
   "execution_count": 30,
   "metadata": {},
   "outputs": [
    {
     "name": "stderr",
     "output_type": "stream",
     "text": [
      "/var/folders/km/_mk7wy_d31z7cvt46ch2p8mh0000gn/T/ipykernel_53329/2552799965.py:2: FutureWarning: Automatic reindexing on DataFrame vs Series comparisons is deprecated and will raise ValueError in a future version. Do `left, right = left.align(right, axis=1, copy=False)` before e.g. `left == right`\n",
      "  outliers= copia[(O2>limitesuperiorO2)|(O2<limiteinferiorO2)]\n"
     ]
    },
    {
     "data": {
      "text/html": [
       "<div>\n",
       "<style scoped>\n",
       "    .dataframe tbody tr th:only-of-type {\n",
       "        vertical-align: middle;\n",
       "    }\n",
       "\n",
       "    .dataframe tbody tr th {\n",
       "        vertical-align: top;\n",
       "    }\n",
       "\n",
       "    .dataframe thead th {\n",
       "        text-align: right;\n",
       "    }\n",
       "</style>\n",
       "<table border=\"1\" class=\"dataframe\">\n",
       "  <thead>\n",
       "    <tr style=\"text-align: right;\">\n",
       "      <th></th>\n",
       "      <th>id</th>\n",
       "      <th>name</th>\n",
       "      <th>host_id</th>\n",
       "      <th>host_name</th>\n",
       "      <th>neighbourhood</th>\n",
       "      <th>latitude</th>\n",
       "      <th>longitude</th>\n",
       "      <th>room_type</th>\n",
       "      <th>price</th>\n",
       "      <th>minimum_nights</th>\n",
       "      <th>number_of_reviews</th>\n",
       "      <th>reviews_per_month</th>\n",
       "      <th>calculated_host_listings_count</th>\n",
       "      <th>availability_365</th>\n",
       "      <th>number_of_reviews_ltm</th>\n",
       "    </tr>\n",
       "  </thead>\n",
       "  <tbody>\n",
       "    <tr>\n",
       "      <th>0</th>\n",
       "      <td>NaN</td>\n",
       "      <td>NaN</td>\n",
       "      <td>NaN</td>\n",
       "      <td>NaN</td>\n",
       "      <td>NaN</td>\n",
       "      <td>NaN</td>\n",
       "      <td>NaN</td>\n",
       "      <td>NaN</td>\n",
       "      <td>NaN</td>\n",
       "      <td>180.0</td>\n",
       "      <td>NaN</td>\n",
       "      <td>NaN</td>\n",
       "      <td>NaN</td>\n",
       "      <td>NaN</td>\n",
       "      <td>NaN</td>\n",
       "    </tr>\n",
       "    <tr>\n",
       "      <th>1</th>\n",
       "      <td>NaN</td>\n",
       "      <td>NaN</td>\n",
       "      <td>NaN</td>\n",
       "      <td>NaN</td>\n",
       "      <td>NaN</td>\n",
       "      <td>NaN</td>\n",
       "      <td>-99.271780</td>\n",
       "      <td>NaN</td>\n",
       "      <td>NaN</td>\n",
       "      <td>NaN</td>\n",
       "      <td>NaN</td>\n",
       "      <td>NaN</td>\n",
       "      <td>NaN</td>\n",
       "      <td>NaN</td>\n",
       "      <td>NaN</td>\n",
       "    </tr>\n",
       "    <tr>\n",
       "      <th>2</th>\n",
       "      <td>NaN</td>\n",
       "      <td>NaN</td>\n",
       "      <td>NaN</td>\n",
       "      <td>NaN</td>\n",
       "      <td>NaN</td>\n",
       "      <td>NaN</td>\n",
       "      <td>-99.277374</td>\n",
       "      <td>NaN</td>\n",
       "      <td>NaN</td>\n",
       "      <td>NaN</td>\n",
       "      <td>NaN</td>\n",
       "      <td>NaN</td>\n",
       "      <td>NaN</td>\n",
       "      <td>NaN</td>\n",
       "      <td>NaN</td>\n",
       "    </tr>\n",
       "    <tr>\n",
       "      <th>3</th>\n",
       "      <td>NaN</td>\n",
       "      <td>NaN</td>\n",
       "      <td>NaN</td>\n",
       "      <td>NaN</td>\n",
       "      <td>NaN</td>\n",
       "      <td>NaN</td>\n",
       "      <td>NaN</td>\n",
       "      <td>NaN</td>\n",
       "      <td>NaN</td>\n",
       "      <td>NaN</td>\n",
       "      <td>NaN</td>\n",
       "      <td>NaN</td>\n",
       "      <td>NaN</td>\n",
       "      <td>NaN</td>\n",
       "      <td>NaN</td>\n",
       "    </tr>\n",
       "    <tr>\n",
       "      <th>4</th>\n",
       "      <td>NaN</td>\n",
       "      <td>NaN</td>\n",
       "      <td>NaN</td>\n",
       "      <td>NaN</td>\n",
       "      <td>NaN</td>\n",
       "      <td>NaN</td>\n",
       "      <td>NaN</td>\n",
       "      <td>NaN</td>\n",
       "      <td>18000.0</td>\n",
       "      <td>NaN</td>\n",
       "      <td>NaN</td>\n",
       "      <td>NaN</td>\n",
       "      <td>NaN</td>\n",
       "      <td>NaN</td>\n",
       "      <td>NaN</td>\n",
       "    </tr>\n",
       "    <tr>\n",
       "      <th>...</th>\n",
       "      <td>...</td>\n",
       "      <td>...</td>\n",
       "      <td>...</td>\n",
       "      <td>...</td>\n",
       "      <td>...</td>\n",
       "      <td>...</td>\n",
       "      <td>...</td>\n",
       "      <td>...</td>\n",
       "      <td>...</td>\n",
       "      <td>...</td>\n",
       "      <td>...</td>\n",
       "      <td>...</td>\n",
       "      <td>...</td>\n",
       "      <td>...</td>\n",
       "      <td>...</td>\n",
       "    </tr>\n",
       "    <tr>\n",
       "      <th>21664</th>\n",
       "      <td>6.180345e+17</td>\n",
       "      <td>NaN</td>\n",
       "      <td>442065952.0</td>\n",
       "      <td>NaN</td>\n",
       "      <td>NaN</td>\n",
       "      <td>19.49998</td>\n",
       "      <td>NaN</td>\n",
       "      <td>NaN</td>\n",
       "      <td>NaN</td>\n",
       "      <td>NaN</td>\n",
       "      <td>NaN</td>\n",
       "      <td>NaN</td>\n",
       "      <td>79.0</td>\n",
       "      <td>NaN</td>\n",
       "      <td>NaN</td>\n",
       "    </tr>\n",
       "    <tr>\n",
       "      <th>21665</th>\n",
       "      <td>NaN</td>\n",
       "      <td>NaN</td>\n",
       "      <td>NaN</td>\n",
       "      <td>NaN</td>\n",
       "      <td>NaN</td>\n",
       "      <td>19.50787</td>\n",
       "      <td>NaN</td>\n",
       "      <td>NaN</td>\n",
       "      <td>NaN</td>\n",
       "      <td>NaN</td>\n",
       "      <td>NaN</td>\n",
       "      <td>NaN</td>\n",
       "      <td>NaN</td>\n",
       "      <td>NaN</td>\n",
       "      <td>NaN</td>\n",
       "    </tr>\n",
       "    <tr>\n",
       "      <th>21666</th>\n",
       "      <td>NaN</td>\n",
       "      <td>NaN</td>\n",
       "      <td>NaN</td>\n",
       "      <td>NaN</td>\n",
       "      <td>NaN</td>\n",
       "      <td>19.50753</td>\n",
       "      <td>NaN</td>\n",
       "      <td>NaN</td>\n",
       "      <td>NaN</td>\n",
       "      <td>NaN</td>\n",
       "      <td>NaN</td>\n",
       "      <td>NaN</td>\n",
       "      <td>NaN</td>\n",
       "      <td>NaN</td>\n",
       "      <td>NaN</td>\n",
       "    </tr>\n",
       "    <tr>\n",
       "      <th>21667</th>\n",
       "      <td>5.695193e+17</td>\n",
       "      <td>NaN</td>\n",
       "      <td>NaN</td>\n",
       "      <td>NaN</td>\n",
       "      <td>NaN</td>\n",
       "      <td>19.49336</td>\n",
       "      <td>NaN</td>\n",
       "      <td>NaN</td>\n",
       "      <td>NaN</td>\n",
       "      <td>NaN</td>\n",
       "      <td>NaN</td>\n",
       "      <td>NaN</td>\n",
       "      <td>NaN</td>\n",
       "      <td>NaN</td>\n",
       "      <td>NaN</td>\n",
       "    </tr>\n",
       "    <tr>\n",
       "      <th>21668</th>\n",
       "      <td>NaN</td>\n",
       "      <td>NaN</td>\n",
       "      <td>NaN</td>\n",
       "      <td>NaN</td>\n",
       "      <td>NaN</td>\n",
       "      <td>NaN</td>\n",
       "      <td>NaN</td>\n",
       "      <td>NaN</td>\n",
       "      <td>NaN</td>\n",
       "      <td>NaN</td>\n",
       "      <td>NaN</td>\n",
       "      <td>NaN</td>\n",
       "      <td>NaN</td>\n",
       "      <td>NaN</td>\n",
       "      <td>NaN</td>\n",
       "    </tr>\n",
       "  </tbody>\n",
       "</table>\n",
       "<p>21669 rows × 15 columns</p>\n",
       "</div>"
      ],
      "text/plain": [
       "                 id name      host_id host_name neighbourhood  latitude  \\\n",
       "0               NaN  NaN          NaN       NaN           NaN       NaN   \n",
       "1               NaN  NaN          NaN       NaN           NaN       NaN   \n",
       "2               NaN  NaN          NaN       NaN           NaN       NaN   \n",
       "3               NaN  NaN          NaN       NaN           NaN       NaN   \n",
       "4               NaN  NaN          NaN       NaN           NaN       NaN   \n",
       "...             ...  ...          ...       ...           ...       ...   \n",
       "21664  6.180345e+17  NaN  442065952.0       NaN           NaN  19.49998   \n",
       "21665           NaN  NaN          NaN       NaN           NaN  19.50787   \n",
       "21666           NaN  NaN          NaN       NaN           NaN  19.50753   \n",
       "21667  5.695193e+17  NaN          NaN       NaN           NaN  19.49336   \n",
       "21668           NaN  NaN          NaN       NaN           NaN       NaN   \n",
       "\n",
       "       longitude room_type    price  minimum_nights  number_of_reviews  \\\n",
       "0            NaN       NaN      NaN           180.0                NaN   \n",
       "1     -99.271780       NaN      NaN             NaN                NaN   \n",
       "2     -99.277374       NaN      NaN             NaN                NaN   \n",
       "3            NaN       NaN      NaN             NaN                NaN   \n",
       "4            NaN       NaN  18000.0             NaN                NaN   \n",
       "...          ...       ...      ...             ...                ...   \n",
       "21664        NaN       NaN      NaN             NaN                NaN   \n",
       "21665        NaN       NaN      NaN             NaN                NaN   \n",
       "21666        NaN       NaN      NaN             NaN                NaN   \n",
       "21667        NaN       NaN      NaN             NaN                NaN   \n",
       "21668        NaN       NaN      NaN             NaN                NaN   \n",
       "\n",
       "       reviews_per_month  calculated_host_listings_count  availability_365  \\\n",
       "0                    NaN                             NaN               NaN   \n",
       "1                    NaN                             NaN               NaN   \n",
       "2                    NaN                             NaN               NaN   \n",
       "3                    NaN                             NaN               NaN   \n",
       "4                    NaN                             NaN               NaN   \n",
       "...                  ...                             ...               ...   \n",
       "21664                NaN                            79.0               NaN   \n",
       "21665                NaN                             NaN               NaN   \n",
       "21666                NaN                             NaN               NaN   \n",
       "21667                NaN                             NaN               NaN   \n",
       "21668                NaN                             NaN               NaN   \n",
       "\n",
       "       number_of_reviews_ltm  \n",
       "0                        NaN  \n",
       "1                        NaN  \n",
       "2                        NaN  \n",
       "3                        NaN  \n",
       "4                        NaN  \n",
       "...                      ...  \n",
       "21664                    NaN  \n",
       "21665                    NaN  \n",
       "21666                    NaN  \n",
       "21667                    NaN  \n",
       "21668                    NaN  \n",
       "\n",
       "[21669 rows x 15 columns]"
      ]
     },
     "execution_count": 30,
     "metadata": {},
     "output_type": "execute_result"
    }
   ],
   "source": [
    "#Encontramos Ouliers del Dataframe\n",
    "outliers= copia[(O2>limitesuperiorO2)|(O2<limiteinferiorO2)]\n",
    "outliers"
   ]
  },
  {
   "cell_type": "code",
   "execution_count": 31,
   "metadata": {},
   "outputs": [
    {
     "data": {
      "image/png": "[encoded data removed]",
      "text/plain": [
       "<Figure size 360x216 with 1 Axes>"
      ]
     },
     "metadata": {
      "needs_background": "light"
     },
     "output_type": "display_data"
    }
   ],
   "source": [
    "#Diagrama de caja: price\n",
    "fig4 = plt.figure(figsize =(5, 3))\n",
    "plt.boxplot(copia[\"price\"]) \n",
    "plt.title(\"Outliers de price\")\n",
    "plt.show() #diagrama para visualizar outliers"
   ]
  },
  {
   "cell_type": "code",
   "execution_count": 32,
   "metadata": {},
   "outputs": [
    {
     "name": "stderr",
     "output_type": "stream",
     "text": [
      "/var/folders/km/_mk7wy_d31z7cvt46ch2p8mh0000gn/T/ipykernel_53329/681460918.py:2: FutureWarning: Automatic reindexing on DataFrame vs Series comparisons is deprecated and will raise ValueError in a future version. Do `left, right = left.align(right, axis=1, copy=False)` before e.g. `left == right`\n",
      "  Outliers2=copia[(O2<=limitesuperiorO2) & (O2>=limiteinferiorO2)]\n"
     ]
    },
    {
     "data": {
      "text/html": [
       "<div>\n",
       "<style scoped>\n",
       "    .dataframe tbody tr th:only-of-type {\n",
       "        vertical-align: middle;\n",
       "    }\n",
       "\n",
       "    .dataframe tbody tr th {\n",
       "        vertical-align: top;\n",
       "    }\n",
       "\n",
       "    .dataframe thead th {\n",
       "        text-align: right;\n",
       "    }\n",
       "</style>\n",
       "<table border=\"1\" class=\"dataframe\">\n",
       "  <thead>\n",
       "    <tr style=\"text-align: right;\">\n",
       "      <th></th>\n",
       "      <th>id</th>\n",
       "      <th>name</th>\n",
       "      <th>host_id</th>\n",
       "      <th>host_name</th>\n",
       "      <th>neighbourhood</th>\n",
       "      <th>latitude</th>\n",
       "      <th>longitude</th>\n",
       "      <th>room_type</th>\n",
       "      <th>price</th>\n",
       "      <th>minimum_nights</th>\n",
       "      <th>number_of_reviews</th>\n",
       "      <th>reviews_per_month</th>\n",
       "      <th>calculated_host_listings_count</th>\n",
       "      <th>availability_365</th>\n",
       "      <th>number_of_reviews_ltm</th>\n",
       "    </tr>\n",
       "  </thead>\n",
       "  <tbody>\n",
       "    <tr>\n",
       "      <th>0</th>\n",
       "      <td>826691.0</td>\n",
       "      <td>NaN</td>\n",
       "      <td>4326326.0</td>\n",
       "      <td>NaN</td>\n",
       "      <td>NaN</td>\n",
       "      <td>19.409150</td>\n",
       "      <td>-99.17321</td>\n",
       "      <td>NaN</td>\n",
       "      <td>850.0</td>\n",
       "      <td>NaN</td>\n",
       "      <td>18.0</td>\n",
       "      <td>0.17</td>\n",
       "      <td>6.0</td>\n",
       "      <td>325</td>\n",
       "      <td>0.0</td>\n",
       "    </tr>\n",
       "    <tr>\n",
       "      <th>1</th>\n",
       "      <td>35797.0</td>\n",
       "      <td>NaN</td>\n",
       "      <td>153786.0</td>\n",
       "      <td>NaN</td>\n",
       "      <td>NaN</td>\n",
       "      <td>19.382830</td>\n",
       "      <td>NaN</td>\n",
       "      <td>NaN</td>\n",
       "      <td>4056.0</td>\n",
       "      <td>1.0</td>\n",
       "      <td>0.0</td>\n",
       "      <td>1.60</td>\n",
       "      <td>1.0</td>\n",
       "      <td>363</td>\n",
       "      <td>0.0</td>\n",
       "    </tr>\n",
       "    <tr>\n",
       "      <th>2</th>\n",
       "      <td>52390579.0</td>\n",
       "      <td>NaN</td>\n",
       "      <td>424060909.0</td>\n",
       "      <td>NaN</td>\n",
       "      <td>NaN</td>\n",
       "      <td>19.395126</td>\n",
       "      <td>NaN</td>\n",
       "      <td>NaN</td>\n",
       "      <td>752.0</td>\n",
       "      <td>1.0</td>\n",
       "      <td>0.0</td>\n",
       "      <td>1.60</td>\n",
       "      <td>1.0</td>\n",
       "      <td>365</td>\n",
       "      <td>0.0</td>\n",
       "    </tr>\n",
       "    <tr>\n",
       "      <th>3</th>\n",
       "      <td>826760.0</td>\n",
       "      <td>NaN</td>\n",
       "      <td>4326326.0</td>\n",
       "      <td>NaN</td>\n",
       "      <td>NaN</td>\n",
       "      <td>19.409150</td>\n",
       "      <td>-99.17321</td>\n",
       "      <td>NaN</td>\n",
       "      <td>971.0</td>\n",
       "      <td>4.0</td>\n",
       "      <td>17.0</td>\n",
       "      <td>0.15</td>\n",
       "      <td>6.0</td>\n",
       "      <td>203</td>\n",
       "      <td>0.0</td>\n",
       "    </tr>\n",
       "    <tr>\n",
       "      <th>4</th>\n",
       "      <td>44616.0</td>\n",
       "      <td>NaN</td>\n",
       "      <td>196253.0</td>\n",
       "      <td>NaN</td>\n",
       "      <td>NaN</td>\n",
       "      <td>19.411620</td>\n",
       "      <td>-99.17794</td>\n",
       "      <td>NaN</td>\n",
       "      <td>NaN</td>\n",
       "      <td>1.0</td>\n",
       "      <td>56.0</td>\n",
       "      <td>0.43</td>\n",
       "      <td>11.0</td>\n",
       "      <td>347</td>\n",
       "      <td>7.0</td>\n",
       "    </tr>\n",
       "    <tr>\n",
       "      <th>...</th>\n",
       "      <td>...</td>\n",
       "      <td>...</td>\n",
       "      <td>...</td>\n",
       "      <td>...</td>\n",
       "      <td>...</td>\n",
       "      <td>...</td>\n",
       "      <td>...</td>\n",
       "      <td>...</td>\n",
       "      <td>...</td>\n",
       "      <td>...</td>\n",
       "      <td>...</td>\n",
       "      <td>...</td>\n",
       "      <td>...</td>\n",
       "      <td>...</td>\n",
       "      <td>...</td>\n",
       "    </tr>\n",
       "    <tr>\n",
       "      <th>21664</th>\n",
       "      <td>NaN</td>\n",
       "      <td>NaN</td>\n",
       "      <td>NaN</td>\n",
       "      <td>NaN</td>\n",
       "      <td>NaN</td>\n",
       "      <td>NaN</td>\n",
       "      <td>-99.22601</td>\n",
       "      <td>NaN</td>\n",
       "      <td>673.0</td>\n",
       "      <td>1.0</td>\n",
       "      <td>3.0</td>\n",
       "      <td>2.73</td>\n",
       "      <td>NaN</td>\n",
       "      <td>355</td>\n",
       "      <td>3.0</td>\n",
       "    </tr>\n",
       "    <tr>\n",
       "      <th>21665</th>\n",
       "      <td>22107097.0</td>\n",
       "      <td>NaN</td>\n",
       "      <td>387195495.0</td>\n",
       "      <td>NaN</td>\n",
       "      <td>NaN</td>\n",
       "      <td>NaN</td>\n",
       "      <td>-99.22067</td>\n",
       "      <td>NaN</td>\n",
       "      <td>897.0</td>\n",
       "      <td>2.0</td>\n",
       "      <td>107.0</td>\n",
       "      <td>1.97</td>\n",
       "      <td>11.0</td>\n",
       "      <td>314</td>\n",
       "      <td>17.0</td>\n",
       "    </tr>\n",
       "    <tr>\n",
       "      <th>21666</th>\n",
       "      <td>40617809.0</td>\n",
       "      <td>NaN</td>\n",
       "      <td>96471106.0</td>\n",
       "      <td>NaN</td>\n",
       "      <td>NaN</td>\n",
       "      <td>NaN</td>\n",
       "      <td>-99.22506</td>\n",
       "      <td>NaN</td>\n",
       "      <td>230.0</td>\n",
       "      <td>1.0</td>\n",
       "      <td>5.0</td>\n",
       "      <td>0.16</td>\n",
       "      <td>4.0</td>\n",
       "      <td>140</td>\n",
       "      <td>0.0</td>\n",
       "    </tr>\n",
       "    <tr>\n",
       "      <th>21667</th>\n",
       "      <td>NaN</td>\n",
       "      <td>NaN</td>\n",
       "      <td>30446640.0</td>\n",
       "      <td>NaN</td>\n",
       "      <td>NaN</td>\n",
       "      <td>NaN</td>\n",
       "      <td>-99.22909</td>\n",
       "      <td>NaN</td>\n",
       "      <td>690.0</td>\n",
       "      <td>3.0</td>\n",
       "      <td>0.0</td>\n",
       "      <td>1.60</td>\n",
       "      <td>1.0</td>\n",
       "      <td>354</td>\n",
       "      <td>0.0</td>\n",
       "    </tr>\n",
       "    <tr>\n",
       "      <th>21668</th>\n",
       "      <td>37175605.0</td>\n",
       "      <td>NaN</td>\n",
       "      <td>51907431.0</td>\n",
       "      <td>NaN</td>\n",
       "      <td>NaN</td>\n",
       "      <td>19.490040</td>\n",
       "      <td>-99.23031</td>\n",
       "      <td>NaN</td>\n",
       "      <td>3228.0</td>\n",
       "      <td>2.0</td>\n",
       "      <td>58.0</td>\n",
       "      <td>1.66</td>\n",
       "      <td>1.0</td>\n",
       "      <td>10</td>\n",
       "      <td>20.0</td>\n",
       "    </tr>\n",
       "  </tbody>\n",
       "</table>\n",
       "<p>21669 rows × 15 columns</p>\n",
       "</div>"
      ],
      "text/plain": [
       "               id name      host_id host_name neighbourhood   latitude  \\\n",
       "0        826691.0  NaN    4326326.0       NaN           NaN  19.409150   \n",
       "1         35797.0  NaN     153786.0       NaN           NaN  19.382830   \n",
       "2      52390579.0  NaN  424060909.0       NaN           NaN  19.395126   \n",
       "3        826760.0  NaN    4326326.0       NaN           NaN  19.409150   \n",
       "4         44616.0  NaN     196253.0       NaN           NaN  19.411620   \n",
       "...           ...  ...          ...       ...           ...        ...   \n",
       "21664         NaN  NaN          NaN       NaN           NaN        NaN   \n",
       "21665  22107097.0  NaN  387195495.0       NaN           NaN        NaN   \n",
       "21666  40617809.0  NaN   96471106.0       NaN           NaN        NaN   \n",
       "21667         NaN  NaN   30446640.0       NaN           NaN        NaN   \n",
       "21668  37175605.0  NaN   51907431.0       NaN           NaN  19.490040   \n",
       "\n",
       "       longitude room_type   price  minimum_nights  number_of_reviews  \\\n",
       "0      -99.17321       NaN   850.0             NaN               18.0   \n",
       "1            NaN       NaN  4056.0             1.0                0.0   \n",
       "2            NaN       NaN   752.0             1.0                0.0   \n",
       "3      -99.17321       NaN   971.0             4.0               17.0   \n",
       "4      -99.17794       NaN     NaN             1.0               56.0   \n",
       "...          ...       ...     ...             ...                ...   \n",
       "21664  -99.22601       NaN   673.0             1.0                3.0   \n",
       "21665  -99.22067       NaN   897.0             2.0              107.0   \n",
       "21666  -99.22506       NaN   230.0             1.0                5.0   \n",
       "21667  -99.22909       NaN   690.0             3.0                0.0   \n",
       "21668  -99.23031       NaN  3228.0             2.0               58.0   \n",
       "\n",
       "       reviews_per_month  calculated_host_listings_count  availability_365  \\\n",
       "0                   0.17                             6.0               325   \n",
       "1                   1.60                             1.0               363   \n",
       "2                   1.60                             1.0               365   \n",
       "3                   0.15                             6.0               203   \n",
       "4                   0.43                            11.0               347   \n",
       "...                  ...                             ...               ...   \n",
       "21664               2.73                             NaN               355   \n",
       "21665               1.97                            11.0               314   \n",
       "21666               0.16                             4.0               140   \n",
       "21667               1.60                             1.0               354   \n",
       "21668               1.66                             1.0                10   \n",
       "\n",
       "       number_of_reviews_ltm  \n",
       "0                        0.0  \n",
       "1                        0.0  \n",
       "2                        0.0  \n",
       "3                        0.0  \n",
       "4                        7.0  \n",
       "...                      ...  \n",
       "21664                    3.0  \n",
       "21665                   17.0  \n",
       "21666                    0.0  \n",
       "21667                    0.0  \n",
       "21668                   20.0  \n",
       "\n",
       "[21669 rows x 15 columns]"
      ]
     },
     "execution_count": 32,
     "metadata": {},
     "output_type": "execute_result"
    }
   ],
   "source": [
    "#Conversionde Outliers a datos nulos\n",
    "Outliers2=copia[(O2<=limitesuperiorO2) & (O2>=limiteinferiorO2)]\n",
    "Outliers2"
   ]
  },
  {
   "cell_type": "code",
   "execution_count": 33,
   "metadata": {},
   "outputs": [],
   "source": [
    "#sustituirl datos nulos por el promedio de la columna\n",
    "copia[\"price\"]=copia[\"price\"].fillna(round(copia[\"price\"].mean(),1))\n",
    "copia[\"minimum_nights\"]=copia[\"minimum_nights\"].fillna(round(copia[\"minimum_nights\"].mean(),1))\n",
    "copia[\"number_of_reviews\"]=copia[\"number_of_reviews\"].fillna(round(copia[\"number_of_reviews\"].mean(),1))\n",
    "copia[\"reviews_per_month\"]=copia[\"reviews_per_month\"].fillna(round(copia[\"reviews_per_month\"].mean(),1))\n",
    "copia[\"calculated_host_listings_count\"]=copia[\"calculated_host_listings_count\"].fillna(round(copia[\"calculated_host_listings_count\"].mean(),1))\n",
    "copia[\"availability_365\"]=copia[\"availability_365\"].fillna(round(copia[\"availability_365\"].mean(),1))\n",
    "copia[\"number_of_reviews_ltm\"]=copia[\"number_of_reviews_ltm\"].fillna(round(copia[\"number_of_reviews_ltm\"].mean(),1))"
   ]
  },
  {
   "cell_type": "code",
   "execution_count": 34,
   "metadata": {},
   "outputs": [],
   "source": [
    "copia.to_csv('Mexico_limpio.csv')"
   ]
  },
  {
   "cell_type": "markdown",
   "metadata": {},
   "source": [
    "##### Análisis de Correlación #####"
   ]
  },
  {
   "cell_type": "code",
   "execution_count": 35,
   "metadata": {},
   "outputs": [],
   "source": [
    "#DEFINIMOS LA BASE DE DATOS \n",
    "dataframe= pd.read_csv(\"Mexico_limpio.csv\")"
   ]
  },
  {
   "cell_type": "code",
   "execution_count": 36,
   "metadata": {},
   "outputs": [],
   "source": [
    "#Se define model como la  de regresión lineal\n",
    "from sklearn.linear_model import LinearRegression\n",
    "import seaborn as sns\n",
    "model1=LinearRegression()"
   ]
  },
  {
   "cell_type": "code",
   "execution_count": 37,
   "metadata": {},
   "outputs": [],
   "source": [
    "Dep=dataframe['price']"
   ]
  },
  {
   "cell_type": "code",
   "execution_count": 38,
   "metadata": {},
   "outputs": [
    {
     "data": {
      "text/plain": [
       "0.00040273458875084156"
      ]
     },
     "execution_count": 38,
     "metadata": {},
     "output_type": "execute_result"
    }
   ],
   "source": [
    "#A) PRICE - Minimum nights\n",
    "\n",
    "Indepa=dataframe[['minimum_nights']]\n",
    "model1.fit(X=Indepa, y=Dep)\n",
    "\n",
    "#Coeficiente de determinación A)\n",
    "coef_Detera = model1.score(X=Indepa, y=Dep)\n",
    "coef_Detera"
   ]
  },
  {
   "cell_type": "code",
   "execution_count": 39,
   "metadata": {},
   "outputs": [
    {
     "data": {
      "text/plain": [
       "0.020068248273101507"
      ]
     },
     "execution_count": 39,
     "metadata": {},
     "output_type": "execute_result"
    }
   ],
   "source": [
    "#Correlación 1\n",
    "coef_Correlacion1=np.sqrt(coef_Detera)\n",
    "coef_Correlacion1"
   ]
  },
  {
   "cell_type": "code",
   "execution_count": 40,
   "metadata": {},
   "outputs": [
    {
     "data": {
      "text/plain": [
       "0.0001945616019616292"
      ]
     },
     "execution_count": 40,
     "metadata": {},
     "output_type": "execute_result"
    }
   ],
   "source": [
    "#B) PRICE -  Number of reviews\n",
    "\n",
    "Indepa=dataframe[['number_of_reviews']]\n",
    "model1.fit(X=Indepa, y=Dep)\n",
    "\n",
    "#Coeficiente de determinación B)\n",
    "coef_Detera2 = model1.score(X=Indepa, y=Dep)\n",
    "coef_Detera2"
   ]
  },
  {
   "cell_type": "code",
   "execution_count": 41,
   "metadata": {},
   "outputs": [
    {
     "data": {
      "text/plain": [
       "0.013948534043462388"
      ]
     },
     "execution_count": 41,
     "metadata": {},
     "output_type": "execute_result"
    }
   ],
   "source": [
    "#Correlación 2\n",
    "coef_Correlacion2=np.sqrt(coef_Detera2)\n",
    "coef_Correlacion2"
   ]
  },
  {
   "cell_type": "code",
   "execution_count": 42,
   "metadata": {},
   "outputs": [
    {
     "data": {
      "text/plain": [
       "7.576786357899046e-05"
      ]
     },
     "execution_count": 42,
     "metadata": {},
     "output_type": "execute_result"
    }
   ],
   "source": [
    "#C) PRICE - reviews_per_month\n",
    "\n",
    "Indepa=dataframe[['reviews_per_month']]\n",
    "model1.fit(X=Indepa, y=Dep)\n",
    "\n",
    "#Coeficiente de determinación C)\n",
    "coef_Detera3 = model1.score(X=Indepa, y=Dep)\n",
    "coef_Detera3"
   ]
  },
  {
   "cell_type": "code",
   "execution_count": 43,
   "metadata": {},
   "outputs": [
    {
     "data": {
      "text/plain": [
       "0.008704473768068375"
      ]
     },
     "execution_count": 43,
     "metadata": {},
     "output_type": "execute_result"
    }
   ],
   "source": [
    "#Correlación 3\n",
    "coef_Correlacion3=np.sqrt(coef_Detera3)\n",
    "coef_Correlacion3"
   ]
  },
  {
   "cell_type": "code",
   "execution_count": 44,
   "metadata": {},
   "outputs": [
    {
     "data": {
      "text/plain": [
       "0.0008787566659319568"
      ]
     },
     "execution_count": 44,
     "metadata": {},
     "output_type": "execute_result"
    }
   ],
   "source": [
    "#D) PRICE - calculated_host_listings_count\n",
    "\n",
    "Indepa=dataframe[['calculated_host_listings_count']]\n",
    "model1.fit(X=Indepa, y=Dep)\n",
    "\n",
    "#Coeficiente de determinación D)\n",
    "coef_Detera4 = model1.score(X=Indepa, y=Dep)\n",
    "coef_Detera4"
   ]
  },
  {
   "cell_type": "code",
   "execution_count": 45,
   "metadata": {},
   "outputs": [
    {
     "data": {
      "text/plain": [
       "0.029643830149492435"
      ]
     },
     "execution_count": 45,
     "metadata": {},
     "output_type": "execute_result"
    }
   ],
   "source": [
    "#Correlación 4\n",
    "coef_Correlacion4=np.sqrt(coef_Detera4)\n",
    "coef_Correlacion4"
   ]
  },
  {
   "cell_type": "code",
   "execution_count": 46,
   "metadata": {},
   "outputs": [
    {
     "data": {
      "text/plain": [
       "0.0002692833313817644"
      ]
     },
     "execution_count": 46,
     "metadata": {},
     "output_type": "execute_result"
    }
   ],
   "source": [
    "#D) PRICE - availability_365\n",
    "\n",
    "Indepa=dataframe[['availability_365']]\n",
    "model1.fit(X=Indepa, y=Dep)\n",
    "\n",
    "#Coeficiente de determinación D)\n",
    "coef_Detera5 = model1.score(X=Indepa, y=Dep)\n",
    "coef_Detera5"
   ]
  },
  {
   "cell_type": "code",
   "execution_count": 47,
   "metadata": {},
   "outputs": [
    {
     "data": {
      "text/plain": [
       "0.016409854703249644"
      ]
     },
     "execution_count": 47,
     "metadata": {},
     "output_type": "execute_result"
    }
   ],
   "source": [
    "#Correlación 5\n",
    "coef_Correlacion5=np.sqrt(coef_Detera5)\n",
    "coef_Correlacion5"
   ]
  },
  {
   "cell_type": "code",
   "execution_count": 48,
   "metadata": {},
   "outputs": [
    {
     "data": {
      "text/plain": [
       "0.00016474287735390725"
      ]
     },
     "execution_count": 48,
     "metadata": {},
     "output_type": "execute_result"
    }
   ],
   "source": [
    "#E) PRICE - number_of_reviews_ltm\n",
    "\n",
    "Indepa=dataframe[['number_of_reviews_ltm']]\n",
    "model1.fit(X=Indepa, y=Dep)\n",
    "\n",
    "#Coeficiente de determinación E)\n",
    "coef_Detera6 = model1.score(X=Indepa, y=Dep)\n",
    "coef_Detera6"
   ]
  },
  {
   "cell_type": "code",
   "execution_count": 49,
   "metadata": {},
   "outputs": [
    {
     "data": {
      "text/plain": [
       "0.012835220191095564"
      ]
     },
     "execution_count": 49,
     "metadata": {},
     "output_type": "execute_result"
    }
   ],
   "source": [
    "#Correlación 6\n",
    "coef_Correlacion6=np.sqrt(coef_Detera6)\n",
    "coef_Correlacion6"
   ]
  },
  {
   "cell_type": "markdown",
   "metadata": {},
   "source": [
    "##### MODELO DE PREDICCIÓN: \"VARIABLE CON MAYOR CORRELACIÓN\" #####"
   ]
  },
  {
   "cell_type": "code",
   "execution_count": 61,
   "metadata": {},
   "outputs": [],
   "source": [
    "#Declaramos las variables dependientes e independientes para la regresión lineal\n",
    "Vars_Indept= dataframe[['calculated_host_listings_count']]\n",
    "Vars_Dept= dataframe['price']"
   ]
  },
  {
   "cell_type": "code",
   "execution_count": 62,
   "metadata": {},
   "outputs": [],
   "source": [
    "#Se define model como la función de regresión lineal\n",
    "from sklearn.linear_model import LinearRegression\n",
    "model= LinearRegression()"
   ]
  },
  {
   "cell_type": "code",
   "execution_count": 63,
   "metadata": {},
   "outputs": [
    {
     "data": {
      "text/plain": [
       "sklearn.linear_model._base.LinearRegression"
      ]
     },
     "execution_count": 63,
     "metadata": {},
     "output_type": "execute_result"
    }
   ],
   "source": [
    "type(model)"
   ]
  },
  {
   "cell_type": "code",
   "execution_count": 64,
   "metadata": {},
   "outputs": [
    {
     "data": {
      "text/html": [
       "<style>#sk-container-id-2 {color: black;background-color: white;}#sk-container-id-2 pre{padding: 0;}#sk-container-id-2 div.sk-toggleable {background-color: white;}#sk-container-id-2 label.sk-toggleable__label {cursor: pointer;display: block;width: 100%;margin-bottom: 0;padding: 0.3em;box-sizing: border-box;text-align: center;}#sk-container-id-2 label.sk-toggleable__label-arrow:before {content: \"▸\";float: left;margin-right: 0.25em;color: #696969;}#sk-container-id-2 label.sk-toggleable__label-arrow:hover:before {color: black;}#sk-container-id-2 div.sk-estimator:hover label.sk-toggleable__label-arrow:before {color: black;}#sk-container-id-2 div.sk-toggleable__content {max-height: 0;max-width: 0;overflow: hidden;text-align: left;background-color: #f0f8ff;}#sk-container-id-2 div.sk-toggleable__content pre {margin: 0.2em;color: black;border-radius: 0.25em;background-color: #f0f8ff;}#sk-container-id-2 input.sk-toggleable__control:checked~div.sk-toggleable__content {max-height: 200px;max-width: 100%;overflow: auto;}#sk-container-id-2 input.sk-toggleable__control:checked~label.sk-toggleable__label-arrow:before {content: \"▾\";}#sk-container-id-2 div.sk-estimator input.sk-toggleable__control:checked~label.sk-toggleable__label {background-color: #d4ebff;}#sk-container-id-2 div.sk-label input.sk-toggleable__control:checked~label.sk-toggleable__label {background-color: #d4ebff;}#sk-container-id-2 input.sk-hidden--visually {border: 0;clip: rect(1px 1px 1px 1px);clip: rect(1px, 1px, 1px, 1px);height: 1px;margin: -1px;overflow: hidden;padding: 0;position: absolute;width: 1px;}#sk-container-id-2 div.sk-estimator {font-family: monospace;background-color: #f0f8ff;border: 1px dotted black;border-radius: 0.25em;box-sizing: border-box;margin-bottom: 0.5em;}#sk-container-id-2 div.sk-estimator:hover {background-color: #d4ebff;}#sk-container-id-2 div.sk-parallel-item::after {content: \"\";width: 100%;border-bottom: 1px solid gray;flex-grow: 1;}#sk-container-id-2 div.sk-label:hover label.sk-toggleable__label {background-color: #d4ebff;}#sk-container-id-2 div.sk-serial::before {content: \"\";position: absolute;border-left: 1px solid gray;box-sizing: border-box;top: 0;bottom: 0;left: 50%;z-index: 0;}#sk-container-id-2 div.sk-serial {display: flex;flex-direction: column;align-items: center;background-color: white;padding-right: 0.2em;padding-left: 0.2em;position: relative;}#sk-container-id-2 div.sk-item {position: relative;z-index: 1;}#sk-container-id-2 div.sk-parallel {display: flex;align-items: stretch;justify-content: center;background-color: white;position: relative;}#sk-container-id-2 div.sk-item::before, #sk-container-id-2 div.sk-parallel-item::before {content: \"\";position: absolute;border-left: 1px solid gray;box-sizing: border-box;top: 0;bottom: 0;left: 50%;z-index: -1;}#sk-container-id-2 div.sk-parallel-item {display: flex;flex-direction: column;z-index: 1;position: relative;background-color: white;}#sk-container-id-2 div.sk-parallel-item:first-child::after {align-self: flex-end;width: 50%;}#sk-container-id-2 div.sk-parallel-item:last-child::after {align-self: flex-start;width: 50%;}#sk-container-id-2 div.sk-parallel-item:only-child::after {width: 0;}#sk-container-id-2 div.sk-dashed-wrapped {border: 1px dashed gray;margin: 0 0.4em 0.5em 0.4em;box-sizing: border-box;padding-bottom: 0.4em;background-color: white;}#sk-container-id-2 div.sk-label label {font-family: monospace;font-weight: bold;display: inline-block;line-height: 1.2em;}#sk-container-id-2 div.sk-label-container {text-align: center;}#sk-container-id-2 div.sk-container {/* jupyter's `normalize.less` sets `[hidden] { display: none; }` but bootstrap.min.css set `[hidden] { display: none !important; }` so we also need the `!important` here to be able to override the default hidden behavior on the sphinx rendered scikit-learn.org. See: https://github.com/scikit-learn/scikit-learn/issues/21755 */display: inline-block !important;position: relative;}#sk-container-id-2 div.sk-text-repr-fallback {display: none;}</style><div id=\"sk-container-id-2\" class=\"sk-top-container\"><div class=\"sk-text-repr-fallback\"><pre>LinearRegression()</pre><b>In a Jupyter environment, please rerun this cell to show the HTML representation or trust the notebook. <br />On GitHub, the HTML representation is unable to render, please try loading this page with nbviewer.org.</b></div><div class=\"sk-container\" hidden><div class=\"sk-item\"><div class=\"sk-estimator sk-toggleable\"><input class=\"sk-toggleable__control sk-hidden--visually\" id=\"sk-estimator-id-2\" type=\"checkbox\" checked><label for=\"sk-estimator-id-2\" class=\"sk-toggleable__label sk-toggleable__label-arrow\">LinearRegression</label><div class=\"sk-toggleable__content\"><pre>LinearRegression()</pre></div></div></div></div></div>"
      ],
      "text/plain": [
       "LinearRegression()"
      ]
     },
     "execution_count": 64,
     "metadata": {},
     "output_type": "execute_result"
    }
   ],
   "source": [
    "model.fit(X=Vars_Indept, y=Vars_Dept)"
   ]
  },
  {
   "cell_type": "code",
   "execution_count": 65,
   "metadata": {},
   "outputs": [
    {
     "data": {
      "text/plain": [
       "{'fit_intercept': True,\n",
       " 'normalize': 'deprecated',\n",
       " 'copy_X': True,\n",
       " 'n_jobs': None,\n",
       " 'positive': False,\n",
       " 'feature_names_in_': array(['calculated_host_listings_count'], dtype=object),\n",
       " 'n_features_in_': 1,\n",
       " 'coef_': array([10.75166566]),\n",
       " 'rank_': 1,\n",
       " 'singular_': array([3308.4367546]),\n",
       " 'intercept_': 1343.5008170402484}"
      ]
     },
     "execution_count": 65,
     "metadata": {},
     "output_type": "execute_result"
    }
   ],
   "source": [
    "model.__dict__"
   ]
  },
  {
   "cell_type": "markdown",
   "metadata": {},
   "source": [
    "$$\n",
    "total= 10.75166566 \\cdot calculated_host_listings_count + 1343.5008170402484\n",
    "\n",
    "$$"
   ]
  },
  {
   "cell_type": "markdown",
   "metadata": {},
   "source": [
    "****************************Modelo predictivo***************************"
   ]
  },
  {
   "cell_type": "code",
   "execution_count": 66,
   "metadata": {},
   "outputs": [
    {
     "data": {
      "text/plain": [
       "array([1408.01081102, 1354.2524827 , 1354.2524827 , ..., 1386.5074797 ,\n",
       "       1354.2524827 , 1354.2524827 ])"
      ]
     },
     "execution_count": 66,
     "metadata": {},
     "output_type": "execute_result"
    }
   ],
   "source": [
    "#Predecimos los valores del precio a partir de la variable \"calculated_host_listings_count\"\n",
    "y_predict= model.predict(X=dataframe[['calculated_host_listings_count']])\n",
    "y_predict"
   ]
  },
  {
   "cell_type": "code",
   "execution_count": null,
   "metadata": {},
   "outputs": [],
   "source": [
    "#Insertamos la columna de predicciones en el DataFrame\n",
    "dataframe.insert(0, 'Predicciones', y_predict)\n",
    "dataframe"
   ]
  },
  {
   "cell_type": "code",
   "execution_count": 68,
   "metadata": {},
   "outputs": [
    {
     "data": {
      "text/plain": [
       "<AxesSubplot:xlabel='calculated_host_listings_count', ylabel='price'>"
      ]
     },
     "execution_count": 68,
     "metadata": {},
     "output_type": "execute_result"
    },
    {
     "data": {
      "image/png": "[encoded data removed]",
      "text/plain": [
       "<Figure size 432x288 with 1 Axes>"
      ]
     },
     "metadata": {
      "needs_background": "light"
     },
     "output_type": "display_data"
    }
   ],
   "source": [
    "#Visualizamos la gráfica comparativa entre el total real y el total predecido\n",
    "\n",
    "sns.scatterplot(x='calculated_host_listings_count', y='price', color=\"blue\", data=dataframe)\n",
    "sns.scatterplot(x='calculated_host_listings_count', y='Predicciones', color=\"red\", data=dataframe)"
   ]
  },
  {
   "cell_type": "code",
   "execution_count": 69,
   "metadata": {},
   "outputs": [
    {
     "data": {
      "text/plain": [
       "0.0008787566659319568"
      ]
     },
     "execution_count": 69,
     "metadata": {},
     "output_type": "execute_result"
    }
   ],
   "source": [
    "#Corroboramos cual es el coeficiente de Determinación de nuestro modelo\n",
    "coef_Deter=model.score(X=Vars_Indept, y=Vars_Dept)\n",
    "coef_Deter"
   ]
  },
  {
   "cell_type": "code",
   "execution_count": 70,
   "metadata": {},
   "outputs": [
    {
     "data": {
      "text/plain": [
       "0.029643830149492435"
      ]
     },
     "execution_count": 70,
     "metadata": {},
     "output_type": "execute_result"
    }
   ],
   "source": [
    "#Corroboramos cual es el coeficiente de Correlación de nuestro modelo\n",
    "coef_Correl=np.sqrt(coef_Deter)\n",
    "coef_Correl"
   ]
  },
  {
   "cell_type": "code",
   "execution_count": 71,
   "metadata": {},
   "outputs": [
    {
     "data": {
      "text/plain": [
       "<seaborn.axisgrid.PairGrid at 0x133cdd3c0>"
      ]
     },
     "execution_count": 71,
     "metadata": {},
     "output_type": "execute_result"
    },
    {
     "data": {
      "image/png": "[encoded data removed]",
      "text/plain": [
       "<Figure size 360x360 with 6 Axes>"
      ]
     },
     "metadata": {
      "needs_background": "light"
     },
     "output_type": "display_data"
    },
    {
     "data": {
      "image/png": "[encoded data removed]",
      "text/plain": [
       "<Figure size 360x360 with 6 Axes>"
      ]
     },
     "metadata": {
      "needs_background": "light"
     },
     "output_type": "display_data"
    }
   ],
   "source": [
    "#Graficamos todas las dispersiones entre las variables \"Predicción, \"price\" y \"calculated_host_listings_count\"\n",
    "sns.pairplot(dataframe[['price','calculated_host_listings_count']])\n",
    "sns.pairplot(dataframe[['Predicciones','calculated_host_listings_count']])"
   ]
  },
  {
   "cell_type": "markdown",
   "metadata": {},
   "source": [
    "##### MODELO DE PREDICCIÓN: \"SEGUNDA VARIABLE CON MAYOR CORRELACIÓN\" #####"
   ]
  },
  {
   "cell_type": "code",
   "execution_count": 72,
   "metadata": {},
   "outputs": [],
   "source": [
    "#Declaramos las variables dependientes e independientes para la regresión lineal\n",
    "Vars_Indept2= dataframe[['minimum_nights']]\n",
    "Vars_Dept2= dataframe['price']"
   ]
  },
  {
   "cell_type": "code",
   "execution_count": 73,
   "metadata": {},
   "outputs": [],
   "source": [
    "#Se define model como la función de regresión lineal\n",
    "from sklearn.linear_model import LinearRegression\n",
    "model2= LinearRegression()"
   ]
  },
  {
   "cell_type": "code",
   "execution_count": 74,
   "metadata": {},
   "outputs": [
    {
     "data": {
      "text/plain": [
       "sklearn.linear_model._base.LinearRegression"
      ]
     },
     "execution_count": 74,
     "metadata": {},
     "output_type": "execute_result"
    }
   ],
   "source": [
    "type(model2)"
   ]
  },
  {
   "cell_type": "code",
   "execution_count": 75,
   "metadata": {},
   "outputs": [
    {
     "data": {
      "text/html": [
       "<style>#sk-container-id-3 {color: black;background-color: white;}#sk-container-id-3 pre{padding: 0;}#sk-container-id-3 div.sk-toggleable {background-color: white;}#sk-container-id-3 label.sk-toggleable__label {cursor: pointer;display: block;width: 100%;margin-bottom: 0;padding: 0.3em;box-sizing: border-box;text-align: center;}#sk-container-id-3 label.sk-toggleable__label-arrow:before {content: \"▸\";float: left;margin-right: 0.25em;color: #696969;}#sk-container-id-3 label.sk-toggleable__label-arrow:hover:before {color: black;}#sk-container-id-3 div.sk-estimator:hover label.sk-toggleable__label-arrow:before {color: black;}#sk-container-id-3 div.sk-toggleable__content {max-height: 0;max-width: 0;overflow: hidden;text-align: left;background-color: #f0f8ff;}#sk-container-id-3 div.sk-toggleable__content pre {margin: 0.2em;color: black;border-radius: 0.25em;background-color: #f0f8ff;}#sk-container-id-3 input.sk-toggleable__control:checked~div.sk-toggleable__content {max-height: 200px;max-width: 100%;overflow: auto;}#sk-container-id-3 input.sk-toggleable__control:checked~label.sk-toggleable__label-arrow:before {content: \"▾\";}#sk-container-id-3 div.sk-estimator input.sk-toggleable__control:checked~label.sk-toggleable__label {background-color: #d4ebff;}#sk-container-id-3 div.sk-label input.sk-toggleable__control:checked~label.sk-toggleable__label {background-color: #d4ebff;}#sk-container-id-3 input.sk-hidden--visually {border: 0;clip: rect(1px 1px 1px 1px);clip: rect(1px, 1px, 1px, 1px);height: 1px;margin: -1px;overflow: hidden;padding: 0;position: absolute;width: 1px;}#sk-container-id-3 div.sk-estimator {font-family: monospace;background-color: #f0f8ff;border: 1px dotted black;border-radius: 0.25em;box-sizing: border-box;margin-bottom: 0.5em;}#sk-container-id-3 div.sk-estimator:hover {background-color: #d4ebff;}#sk-container-id-3 div.sk-parallel-item::after {content: \"\";width: 100%;border-bottom: 1px solid gray;flex-grow: 1;}#sk-container-id-3 div.sk-label:hover label.sk-toggleable__label {background-color: #d4ebff;}#sk-container-id-3 div.sk-serial::before {content: \"\";position: absolute;border-left: 1px solid gray;box-sizing: border-box;top: 0;bottom: 0;left: 50%;z-index: 0;}#sk-container-id-3 div.sk-serial {display: flex;flex-direction: column;align-items: center;background-color: white;padding-right: 0.2em;padding-left: 0.2em;position: relative;}#sk-container-id-3 div.sk-item {position: relative;z-index: 1;}#sk-container-id-3 div.sk-parallel {display: flex;align-items: stretch;justify-content: center;background-color: white;position: relative;}#sk-container-id-3 div.sk-item::before, #sk-container-id-3 div.sk-parallel-item::before {content: \"\";position: absolute;border-left: 1px solid gray;box-sizing: border-box;top: 0;bottom: 0;left: 50%;z-index: -1;}#sk-container-id-3 div.sk-parallel-item {display: flex;flex-direction: column;z-index: 1;position: relative;background-color: white;}#sk-container-id-3 div.sk-parallel-item:first-child::after {align-self: flex-end;width: 50%;}#sk-container-id-3 div.sk-parallel-item:last-child::after {align-self: flex-start;width: 50%;}#sk-container-id-3 div.sk-parallel-item:only-child::after {width: 0;}#sk-container-id-3 div.sk-dashed-wrapped {border: 1px dashed gray;margin: 0 0.4em 0.5em 0.4em;box-sizing: border-box;padding-bottom: 0.4em;background-color: white;}#sk-container-id-3 div.sk-label label {font-family: monospace;font-weight: bold;display: inline-block;line-height: 1.2em;}#sk-container-id-3 div.sk-label-container {text-align: center;}#sk-container-id-3 div.sk-container {/* jupyter's `normalize.less` sets `[hidden] { display: none; }` but bootstrap.min.css set `[hidden] { display: none !important; }` so we also need the `!important` here to be able to override the default hidden behavior on the sphinx rendered scikit-learn.org. See: https://github.com/scikit-learn/scikit-learn/issues/21755 */display: inline-block !important;position: relative;}#sk-container-id-3 div.sk-text-repr-fallback {display: none;}</style><div id=\"sk-container-id-3\" class=\"sk-top-container\"><div class=\"sk-text-repr-fallback\"><pre>LinearRegression()</pre><b>In a Jupyter environment, please rerun this cell to show the HTML representation or trust the notebook. <br />On GitHub, the HTML representation is unable to render, please try loading this page with nbviewer.org.</b></div><div class=\"sk-container\" hidden><div class=\"sk-item\"><div class=\"sk-estimator sk-toggleable\"><input class=\"sk-toggleable__control sk-hidden--visually\" id=\"sk-estimator-id-3\" type=\"checkbox\" checked><label for=\"sk-estimator-id-3\" class=\"sk-toggleable__label sk-toggleable__label-arrow\">LinearRegression</label><div class=\"sk-toggleable__content\"><pre>LinearRegression()</pre></div></div></div></div></div>"
      ],
      "text/plain": [
       "LinearRegression()"
      ]
     },
     "execution_count": 75,
     "metadata": {},
     "output_type": "execute_result"
    }
   ],
   "source": [
    "model2.fit(X=Vars_Indept2, y=Vars_Dept2)"
   ]
  },
  {
   "cell_type": "code",
   "execution_count": 76,
   "metadata": {},
   "outputs": [
    {
     "data": {
      "text/plain": [
       "{'fit_intercept': True,\n",
       " 'normalize': 'deprecated',\n",
       " 'copy_X': True,\n",
       " 'n_jobs': None,\n",
       " 'positive': False,\n",
       " 'feature_names_in_': array(['minimum_nights'], dtype=object),\n",
       " 'n_features_in_': 1,\n",
       " 'coef_': array([6.1011403]),\n",
       " 'rank_': 1,\n",
       " 'singular_': array([3946.95999601]),\n",
       " 'intercept_': 1420.9178907800476}"
      ]
     },
     "execution_count": 76,
     "metadata": {},
     "output_type": "execute_result"
    }
   ],
   "source": [
    "model2.__dict__"
   ]
  },
  {
   "cell_type": "markdown",
   "metadata": {},
   "source": [
    "$$\n",
    "total= 6.1011403 \\cdot minimum_nights + 1420.9178907800476\n",
    "\n",
    "$$"
   ]
  },
  {
   "cell_type": "markdown",
   "metadata": {},
   "source": [
    "****************************MODELO PREDICTIVO 2***************************"
   ]
  },
  {
   "cell_type": "code",
   "execution_count": 77,
   "metadata": {},
   "outputs": [
    {
     "data": {
      "text/plain": [
       "array([2519.12314542, 1427.01903108, 1427.01903108, ..., 1427.01903108,\n",
       "       1439.22131169, 1433.12017139])"
      ]
     },
     "execution_count": 77,
     "metadata": {},
     "output_type": "execute_result"
    }
   ],
   "source": [
    "#Predecimos los valores del precio a partir de la variable \"minimum_nights\"\n",
    "y_predict2= model2.predict(X=dataframe[['minimum_nights']])\n",
    "y_predict2"
   ]
  },
  {
   "cell_type": "code",
   "execution_count": 78,
   "metadata": {},
   "outputs": [
    {
     "data": {
      "text/html": [
       "<div>\n",
       "<style scoped>\n",
       "    .dataframe tbody tr th:only-of-type {\n",
       "        vertical-align: middle;\n",
       "    }\n",
       "\n",
       "    .dataframe tbody tr th {\n",
       "        vertical-align: top;\n",
       "    }\n",
       "\n",
       "    .dataframe thead th {\n",
       "        text-align: right;\n",
       "    }\n",
       "</style>\n",
       "<table border=\"1\" class=\"dataframe\">\n",
       "  <thead>\n",
       "    <tr style=\"text-align: right;\">\n",
       "      <th></th>\n",
       "      <th>Predicciones_2</th>\n",
       "      <th>Predicciones</th>\n",
       "      <th>Unnamed: 0</th>\n",
       "      <th>id</th>\n",
       "      <th>name</th>\n",
       "      <th>host_id</th>\n",
       "      <th>host_name</th>\n",
       "      <th>neighbourhood</th>\n",
       "      <th>latitude</th>\n",
       "      <th>longitude</th>\n",
       "      <th>room_type</th>\n",
       "      <th>price</th>\n",
       "      <th>minimum_nights</th>\n",
       "      <th>number_of_reviews</th>\n",
       "      <th>reviews_per_month</th>\n",
       "      <th>calculated_host_listings_count</th>\n",
       "      <th>availability_365</th>\n",
       "      <th>number_of_reviews_ltm</th>\n",
       "    </tr>\n",
       "  </thead>\n",
       "  <tbody>\n",
       "    <tr>\n",
       "      <th>0</th>\n",
       "      <td>2519.123145</td>\n",
       "      <td>1408.010811</td>\n",
       "      <td>0</td>\n",
       "      <td>826691</td>\n",
       "      <td>Suite 7 - Suites Condesa Mexico</td>\n",
       "      <td>4326326</td>\n",
       "      <td>Rodrigo</td>\n",
       "      <td>CuauhtÃ©moc</td>\n",
       "      <td>19.409150</td>\n",
       "      <td>-99.173210</td>\n",
       "      <td>Entire home/apt</td>\n",
       "      <td>850</td>\n",
       "      <td>180</td>\n",
       "      <td>18</td>\n",
       "      <td>0.17</td>\n",
       "      <td>6</td>\n",
       "      <td>325</td>\n",
       "      <td>0</td>\n",
       "    </tr>\n",
       "    <tr>\n",
       "      <th>1</th>\n",
       "      <td>1427.019031</td>\n",
       "      <td>1354.252483</td>\n",
       "      <td>1</td>\n",
       "      <td>35797</td>\n",
       "      <td>Villa Dante</td>\n",
       "      <td>153786</td>\n",
       "      <td>Dici</td>\n",
       "      <td>Cuajimalpa de Morelos</td>\n",
       "      <td>19.382830</td>\n",
       "      <td>-99.271780</td>\n",
       "      <td>Entire home/apt</td>\n",
       "      <td>4056</td>\n",
       "      <td>1</td>\n",
       "      <td>0</td>\n",
       "      <td>1.60</td>\n",
       "      <td>1</td>\n",
       "      <td>363</td>\n",
       "      <td>0</td>\n",
       "    </tr>\n",
       "    <tr>\n",
       "      <th>2</th>\n",
       "      <td>1427.019031</td>\n",
       "      <td>1354.252483</td>\n",
       "      <td>2</td>\n",
       "      <td>52390579</td>\n",
       "      <td>Casa en privada con  vigilancia, estacionamiento.</td>\n",
       "      <td>424060909</td>\n",
       "      <td>Maria Carmen Marta</td>\n",
       "      <td>Cuajimalpa de Morelos</td>\n",
       "      <td>19.395126</td>\n",
       "      <td>-99.277374</td>\n",
       "      <td>Private room</td>\n",
       "      <td>752</td>\n",
       "      <td>1</td>\n",
       "      <td>0</td>\n",
       "      <td>1.60</td>\n",
       "      <td>1</td>\n",
       "      <td>365</td>\n",
       "      <td>0</td>\n",
       "    </tr>\n",
       "    <tr>\n",
       "      <th>3</th>\n",
       "      <td>1445.322452</td>\n",
       "      <td>1408.010811</td>\n",
       "      <td>3</td>\n",
       "      <td>826760</td>\n",
       "      <td>Suite 12 - Suites Condesa Mexico</td>\n",
       "      <td>4326326</td>\n",
       "      <td>Rodrigo</td>\n",
       "      <td>CuauhtÃ©moc</td>\n",
       "      <td>19.409150</td>\n",
       "      <td>-99.173210</td>\n",
       "      <td>Entire home/apt</td>\n",
       "      <td>971</td>\n",
       "      <td>4</td>\n",
       "      <td>17</td>\n",
       "      <td>0.15</td>\n",
       "      <td>6</td>\n",
       "      <td>203</td>\n",
       "      <td>0</td>\n",
       "    </tr>\n",
       "    <tr>\n",
       "      <th>4</th>\n",
       "      <td>1427.019031</td>\n",
       "      <td>1461.769139</td>\n",
       "      <td>4</td>\n",
       "      <td>44616</td>\n",
       "      <td>CONDESA HAUS  B&amp;B</td>\n",
       "      <td>196253</td>\n",
       "      <td>Condesa Haus Bed &amp; Breakfast  CDMX</td>\n",
       "      <td>CuauhtÃ©moc</td>\n",
       "      <td>19.411620</td>\n",
       "      <td>-99.177940</td>\n",
       "      <td>Entire home/apt</td>\n",
       "      <td>18000</td>\n",
       "      <td>1</td>\n",
       "      <td>56</td>\n",
       "      <td>0.43</td>\n",
       "      <td>11</td>\n",
       "      <td>347</td>\n",
       "      <td>7</td>\n",
       "    </tr>\n",
       "    <tr>\n",
       "      <th>...</th>\n",
       "      <td>...</td>\n",
       "      <td>...</td>\n",
       "      <td>...</td>\n",
       "      <td>...</td>\n",
       "      <td>...</td>\n",
       "      <td>...</td>\n",
       "      <td>...</td>\n",
       "      <td>...</td>\n",
       "      <td>...</td>\n",
       "      <td>...</td>\n",
       "      <td>...</td>\n",
       "      <td>...</td>\n",
       "      <td>...</td>\n",
       "      <td>...</td>\n",
       "      <td>...</td>\n",
       "      <td>...</td>\n",
       "      <td>...</td>\n",
       "      <td>...</td>\n",
       "    </tr>\n",
       "    <tr>\n",
       "      <th>21664</th>\n",
       "      <td>1427.019031</td>\n",
       "      <td>2192.882405</td>\n",
       "      <td>21664</td>\n",
       "      <td>618034488468131637</td>\n",
       "      <td>CÃ³modo Departamento en Satelite-Echegaray con...</td>\n",
       "      <td>442065952</td>\n",
       "      <td>Ricardo</td>\n",
       "      <td>Azcapotzalco</td>\n",
       "      <td>19.499980</td>\n",
       "      <td>-99.226010</td>\n",
       "      <td>Entire home/apt</td>\n",
       "      <td>673</td>\n",
       "      <td>1</td>\n",
       "      <td>3</td>\n",
       "      <td>2.73</td>\n",
       "      <td>79</td>\n",
       "      <td>355</td>\n",
       "      <td>3</td>\n",
       "    </tr>\n",
       "    <tr>\n",
       "      <th>21665</th>\n",
       "      <td>1433.120171</td>\n",
       "      <td>1461.769139</td>\n",
       "      <td>21665</td>\n",
       "      <td>22107097</td>\n",
       "      <td>GREAT &amp; cozy flat in Satelite</td>\n",
       "      <td>387195495</td>\n",
       "      <td>Daniela</td>\n",
       "      <td>Azcapotzalco</td>\n",
       "      <td>19.507870</td>\n",
       "      <td>-99.220670</td>\n",
       "      <td>Entire home/apt</td>\n",
       "      <td>897</td>\n",
       "      <td>2</td>\n",
       "      <td>107</td>\n",
       "      <td>1.97</td>\n",
       "      <td>11</td>\n",
       "      <td>314</td>\n",
       "      <td>17</td>\n",
       "    </tr>\n",
       "    <tr>\n",
       "      <th>21666</th>\n",
       "      <td>1427.019031</td>\n",
       "      <td>1386.507480</td>\n",
       "      <td>21666</td>\n",
       "      <td>40617809</td>\n",
       "      <td>Blanca</td>\n",
       "      <td>96471106</td>\n",
       "      <td>Mary Carmen</td>\n",
       "      <td>Azcapotzalco</td>\n",
       "      <td>19.507530</td>\n",
       "      <td>-99.225060</td>\n",
       "      <td>Entire home/apt</td>\n",
       "      <td>230</td>\n",
       "      <td>1</td>\n",
       "      <td>5</td>\n",
       "      <td>0.16</td>\n",
       "      <td>4</td>\n",
       "      <td>140</td>\n",
       "      <td>0</td>\n",
       "    </tr>\n",
       "    <tr>\n",
       "      <th>21667</th>\n",
       "      <td>1439.221312</td>\n",
       "      <td>1354.252483</td>\n",
       "      <td>21667</td>\n",
       "      <td>569519288654139909</td>\n",
       "      <td>Casa LimÃ³n. Confort y seguridad</td>\n",
       "      <td>30446640</td>\n",
       "      <td>Ericka</td>\n",
       "      <td>Azcapotzalco</td>\n",
       "      <td>19.493360</td>\n",
       "      <td>-99.229090</td>\n",
       "      <td>Entire home/apt</td>\n",
       "      <td>690</td>\n",
       "      <td>3</td>\n",
       "      <td>0</td>\n",
       "      <td>1.60</td>\n",
       "      <td>1</td>\n",
       "      <td>354</td>\n",
       "      <td>0</td>\n",
       "    </tr>\n",
       "    <tr>\n",
       "      <th>21668</th>\n",
       "      <td>1433.120171</td>\n",
       "      <td>1354.252483</td>\n",
       "      <td>21668</td>\n",
       "      <td>37175605</td>\n",
       "      <td>Linda casa con enorme jardÃ­n en zona residenc...</td>\n",
       "      <td>51907431</td>\n",
       "      <td>Cecilia</td>\n",
       "      <td>Azcapotzalco</td>\n",
       "      <td>19.490040</td>\n",
       "      <td>-99.230310</td>\n",
       "      <td>Entire home/apt</td>\n",
       "      <td>3228</td>\n",
       "      <td>2</td>\n",
       "      <td>58</td>\n",
       "      <td>1.66</td>\n",
       "      <td>1</td>\n",
       "      <td>10</td>\n",
       "      <td>20</td>\n",
       "    </tr>\n",
       "  </tbody>\n",
       "</table>\n",
       "<p>21669 rows × 18 columns</p>\n",
       "</div>"
      ],
      "text/plain": [
       "       Predicciones_2  Predicciones  Unnamed: 0                  id  \\\n",
       "0         2519.123145   1408.010811           0              826691   \n",
       "1         1427.019031   1354.252483           1               35797   \n",
       "2         1427.019031   1354.252483           2            52390579   \n",
       "3         1445.322452   1408.010811           3              826760   \n",
       "4         1427.019031   1461.769139           4               44616   \n",
       "...               ...           ...         ...                 ...   \n",
       "21664     1427.019031   2192.882405       21664  618034488468131637   \n",
       "21665     1433.120171   1461.769139       21665            22107097   \n",
       "21666     1427.019031   1386.507480       21666            40617809   \n",
       "21667     1439.221312   1354.252483       21667  569519288654139909   \n",
       "21668     1433.120171   1354.252483       21668            37175605   \n",
       "\n",
       "                                                    name    host_id  \\\n",
       "0                        Suite 7 - Suites Condesa Mexico    4326326   \n",
       "1                                            Villa Dante     153786   \n",
       "2      Casa en privada con  vigilancia, estacionamiento.  424060909   \n",
       "3                       Suite 12 - Suites Condesa Mexico    4326326   \n",
       "4                                      CONDESA HAUS  B&B     196253   \n",
       "...                                                  ...        ...   \n",
       "21664  CÃ³modo Departamento en Satelite-Echegaray con...  442065952   \n",
       "21665                      GREAT & cozy flat in Satelite  387195495   \n",
       "21666                                             Blanca   96471106   \n",
       "21667                   Casa LimÃ³n. Confort y seguridad   30446640   \n",
       "21668  Linda casa con enorme jardÃ­n en zona residenc...   51907431   \n",
       "\n",
       "                                host_name          neighbourhood   latitude  \\\n",
       "0                                 Rodrigo            CuauhtÃ©moc  19.409150   \n",
       "1                                    Dici  Cuajimalpa de Morelos  19.382830   \n",
       "2                      Maria Carmen Marta  Cuajimalpa de Morelos  19.395126   \n",
       "3                                 Rodrigo            CuauhtÃ©moc  19.409150   \n",
       "4      Condesa Haus Bed & Breakfast  CDMX            CuauhtÃ©moc  19.411620   \n",
       "...                                   ...                    ...        ...   \n",
       "21664                             Ricardo           Azcapotzalco  19.499980   \n",
       "21665                             Daniela           Azcapotzalco  19.507870   \n",
       "21666                         Mary Carmen           Azcapotzalco  19.507530   \n",
       "21667                              Ericka           Azcapotzalco  19.493360   \n",
       "21668                             Cecilia           Azcapotzalco  19.490040   \n",
       "\n",
       "       longitude        room_type  price  minimum_nights  number_of_reviews  \\\n",
       "0     -99.173210  Entire home/apt    850             180                 18   \n",
       "1     -99.271780  Entire home/apt   4056               1                  0   \n",
       "2     -99.277374     Private room    752               1                  0   \n",
       "3     -99.173210  Entire home/apt    971               4                 17   \n",
       "4     -99.177940  Entire home/apt  18000               1                 56   \n",
       "...          ...              ...    ...             ...                ...   \n",
       "21664 -99.226010  Entire home/apt    673               1                  3   \n",
       "21665 -99.220670  Entire home/apt    897               2                107   \n",
       "21666 -99.225060  Entire home/apt    230               1                  5   \n",
       "21667 -99.229090  Entire home/apt    690               3                  0   \n",
       "21668 -99.230310  Entire home/apt   3228               2                 58   \n",
       "\n",
       "       reviews_per_month  calculated_host_listings_count  availability_365  \\\n",
       "0                   0.17                               6               325   \n",
       "1                   1.60                               1               363   \n",
       "2                   1.60                               1               365   \n",
       "3                   0.15                               6               203   \n",
       "4                   0.43                              11               347   \n",
       "...                  ...                             ...               ...   \n",
       "21664               2.73                              79               355   \n",
       "21665               1.97                              11               314   \n",
       "21666               0.16                               4               140   \n",
       "21667               1.60                               1               354   \n",
       "21668               1.66                               1                10   \n",
       "\n",
       "       number_of_reviews_ltm  \n",
       "0                          0  \n",
       "1                          0  \n",
       "2                          0  \n",
       "3                          0  \n",
       "4                          7  \n",
       "...                      ...  \n",
       "21664                      3  \n",
       "21665                     17  \n",
       "21666                      0  \n",
       "21667                      0  \n",
       "21668                     20  \n",
       "\n",
       "[21669 rows x 18 columns]"
      ]
     },
     "execution_count": 78,
     "metadata": {},
     "output_type": "execute_result"
    }
   ],
   "source": [
    "#Insertamos la columna de predicciones en el DataFrame\n",
    "dataframe.insert(0, 'Predicciones_2', y_predict2)\n",
    "dataframe"
   ]
  },
  {
   "cell_type": "code",
   "execution_count": 79,
   "metadata": {},
   "outputs": [
    {
     "data": {
      "text/plain": [
       "<AxesSubplot:xlabel='minimum_nights', ylabel='price'>"
      ]
     },
     "execution_count": 79,
     "metadata": {},
     "output_type": "execute_result"
    },
    {
     "data": {
      "image/png": "[encoded data removed]",
      "text/plain": [
       "<Figure size 432x288 with 1 Axes>"
      ]
     },
     "metadata": {
      "needs_background": "light"
     },
     "output_type": "display_data"
    }
   ],
   "source": [
    "#Visualizamos la gráfica comparativa entre el Precio real y el precio predecido\n",
    "\n",
    "sns.scatterplot(x='minimum_nights', y='price', color=\"blue\", data=dataframe)\n",
    "sns.scatterplot(x='minimum_nights', y='Predicciones_2', color=\"red\", data=dataframe)"
   ]
  },
  {
   "cell_type": "code",
   "execution_count": 80,
   "metadata": {},
   "outputs": [
    {
     "data": {
      "text/plain": [
       "0.00040273458875084156"
      ]
     },
     "execution_count": 80,
     "metadata": {},
     "output_type": "execute_result"
    }
   ],
   "source": [
    "#Corroboramos cual es el coeficiente de Determinación de nuestro modelo\n",
    "coef_Deter2=model2.score(X=Vars_Indept2, y=Vars_Dept2)\n",
    "coef_Deter2"
   ]
  },
  {
   "cell_type": "code",
   "execution_count": 81,
   "metadata": {},
   "outputs": [
    {
     "data": {
      "text/plain": [
       "0.020068248273101507"
      ]
     },
     "execution_count": 81,
     "metadata": {},
     "output_type": "execute_result"
    }
   ],
   "source": [
    "#Corroboramos cual es el coeficiente de Correlación de nuestro modelo\n",
    "coef_Correl2=np.sqrt(coef_Deter2)\n",
    "coef_Correl2"
   ]
  },
  {
   "cell_type": "code",
   "execution_count": 82,
   "metadata": {},
   "outputs": [
    {
     "data": {
      "text/plain": [
       "<seaborn.axisgrid.PairGrid at 0x133cdf700>"
      ]
     },
     "execution_count": 82,
     "metadata": {},
     "output_type": "execute_result"
    },
    {
     "data": {
      "image/png": "[encoded data removed]",
      "text/plain": [
       "<Figure size 360x360 with 6 Axes>"
      ]
     },
     "metadata": {
      "needs_background": "light"
     },
     "output_type": "display_data"
    },
    {
     "data": {
      "image/png": "[encoded data removed]",
      "text/plain": [
       "<Figure size 360x360 with 6 Axes>"
      ]
     },
     "metadata": {
      "needs_background": "light"
     },
     "output_type": "display_data"
    }
   ],
   "source": [
    "#Graficamos todas las dispersiones entre las variables \"Predicción, \"price\" y \"minimum_nights\"\n",
    "sns.pairplot(dataframe[['price','minimum_nights']])\n",
    "sns.pairplot(dataframe[['Predicciones_2','minimum_nights']])"
   ]
  }
 ],
 "metadata": {
  "kernelspec": {
   "display_name": "Python 3.10.6 64-bit",
   "language": "python",
   "name": "python3"
  },
  "language_info": {
   "codemirror_mode": {
    "name": "ipython",
    "version": 3
   },
   "file_extension": ".py",
   "mimetype": "text/x-python",
   "name": "python",
   "nbconvert_exporter": "python",
   "pygments_lexer": "ipython3",
   "version": "3.10.6"
  },
  "orig_nbformat": 4,
  "vscode": {
   "interpreter": {
    "hash": "aee8b7b246df8f9039afb4144a1f6fd8d2ca17a180786b69acc140d282b71a49"
   }
  }
 },
 "nbformat": 4,
 "nbformat_minor": 2
}
